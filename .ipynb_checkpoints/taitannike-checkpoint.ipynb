{
 "cells": [
  {
   "cell_type": "code",
   "execution_count": 1,
   "metadata": {
    "collapsed": false
   },
   "outputs": [
    {
     "name": "stdout",
     "output_type": "stream",
     "text": [
      "       PassengerId    Survived      Pclass         Age       SibSp  \\\n",
      "count   891.000000  891.000000  891.000000  714.000000  891.000000   \n",
      "mean    446.000000    0.383838    2.308642   29.699118    0.523008   \n",
      "std     257.353842    0.486592    0.836071   14.526497    1.102743   \n",
      "min       1.000000    0.000000    1.000000    0.420000    0.000000   \n",
      "25%     223.500000    0.000000    2.000000         NaN    0.000000   \n",
      "50%     446.000000    0.000000    3.000000         NaN    0.000000   \n",
      "75%     668.500000    1.000000    3.000000         NaN    1.000000   \n",
      "max     891.000000    1.000000    3.000000   80.000000    8.000000   \n",
      "\n",
      "            Parch        Fare  \n",
      "count  891.000000  891.000000  \n",
      "mean     0.381594   32.204208  \n",
      "std      0.806057   49.693429  \n",
      "min      0.000000    0.000000  \n",
      "25%      0.000000    7.910400  \n",
      "50%      0.000000   14.454200  \n",
      "75%      0.000000   31.000000  \n",
      "max      6.000000  512.329200  \n"
     ]
    },
    {
     "name": "stderr",
     "output_type": "stream",
     "text": [
      "/Users/wakemeup/anaconda/lib/python2.7/site-packages/numpy/lib/function_base.py:3834: RuntimeWarning: Invalid value encountered in percentile\n",
      "  RuntimeWarning)\n"
     ]
    }
   ],
   "source": [
    "import pandas #ipython notebook\n",
    "titanic = pandas.read_csv(\"titanic_train.csv\")\n",
    "titanic.head(3)\n",
    "print titanic.describe()"
   ]
  },
  {
   "cell_type": "code",
   "execution_count": 2,
   "metadata": {
    "collapsed": false
   },
   "outputs": [
    {
     "name": "stdout",
     "output_type": "stream",
     "text": [
      "       PassengerId    Survived      Pclass         Age       SibSp  \\\n",
      "count   891.000000  891.000000  891.000000  891.000000  891.000000   \n",
      "mean    446.000000    0.383838    2.308642   29.699118    0.523008   \n",
      "std     257.353842    0.486592    0.836071   13.002015    1.102743   \n",
      "min       1.000000    0.000000    1.000000    0.420000    0.000000   \n",
      "25%     223.500000    0.000000    2.000000   22.000000    0.000000   \n",
      "50%     446.000000    0.000000    3.000000   29.699118    0.000000   \n",
      "75%     668.500000    1.000000    3.000000   35.000000    1.000000   \n",
      "max     891.000000    1.000000    3.000000   80.000000    8.000000   \n",
      "\n",
      "            Parch        Fare  \n",
      "count  891.000000  891.000000  \n",
      "mean     0.381594   32.204208  \n",
      "std      0.806057   49.693429  \n",
      "min      0.000000    0.000000  \n",
      "25%      0.000000    7.910400  \n",
      "50%      0.000000   14.454200  \n",
      "75%      0.000000   31.000000  \n",
      "max      6.000000  512.329200  \n"
     ]
    }
   ],
   "source": [
    "titanic[\"Age\"] = titanic[\"Age\"].fillna(titanic[\"Age\"].mean())\n",
    "print titanic.describe()"
   ]
  },
  {
   "cell_type": "code",
   "execution_count": 3,
   "metadata": {
    "collapsed": false
   },
   "outputs": [
    {
     "name": "stdout",
     "output_type": "stream",
     "text": [
      "['male' 'female']\n"
     ]
    }
   ],
   "source": [
    "print titanic[\"Sex\"].unique()\n",
    "\n",
    "# Replace all the occurences of male with the number 0.\n",
    "titanic.loc[titanic[\"Sex\"] == \"male\", \"Sex\"] = 0\n",
    "titanic.loc[titanic[\"Sex\"] == \"female\", \"Sex\"] = 1\n"
   ]
  },
  {
   "cell_type": "code",
   "execution_count": 4,
   "metadata": {
    "collapsed": false
   },
   "outputs": [
    {
     "name": "stdout",
     "output_type": "stream",
     "text": [
      "['S' 'C' 'Q' nan]\n"
     ]
    }
   ],
   "source": [
    "print titanic[\"Embarked\"].unique()\n",
    "titanic[\"Embarked\"] = titanic[\"Embarked\"].fillna('S')\n",
    "titanic.loc[titanic[\"Embarked\"] == \"S\", \"Embarked\"] = 0\n",
    "titanic.loc[titanic[\"Embarked\"] == \"C\", \"Embarked\"] = 1\n",
    "titanic.loc[titanic[\"Embarked\"] == \"Q\", \"Embarked\"] = 2"
   ]
  },
  {
   "cell_type": "code",
   "execution_count": 5,
   "metadata": {
    "collapsed": false
   },
   "outputs": [
    {
     "name": "stdout",
     "output_type": "stream",
     "text": [
      "<class 'pandas.core.frame.DataFrame'>\n",
      "     Pclass Sex        Age  SibSp  Parch      Fare Embarked\n",
      "297       1   1   2.000000      1      2  151.5500        0\n",
      "298       1   0  29.699118      0      0   30.5000        0\n",
      "299       1   1  50.000000      0      1  247.5208        1\n",
      "300       3   1  29.699118      0      0    7.7500        2\n",
      "301       3   0  29.699118      2      0   23.2500        2\n",
      "302       3   0  19.000000      0      0    0.0000        0\n",
      "303       2   1  29.699118      0      0   12.3500        2\n",
      "304       3   0  29.699118      0      0    8.0500        0\n",
      "305       1   0   0.920000      1      2  151.5500        0\n",
      "306       1   1  29.699118      0      0  110.8833        1\n",
      "307       1   1  17.000000      1      0  108.9000        1\n",
      "308       2   0  30.000000      1      0   24.0000        1\n",
      "309       1   1  30.000000      0      0   56.9292        1\n",
      "310       1   1  24.000000      0      0   83.1583        1\n",
      "311       1   1  18.000000      2      2  262.3750        1\n",
      "312       2   1  26.000000      1      1   26.0000        0\n",
      "313       3   0  28.000000      0      0    7.8958        0\n",
      "314       2   0  43.000000      1      1   26.2500        0\n",
      "315       3   1  26.000000      0      0    7.8542        0\n",
      "316       2   1  24.000000      1      0   26.0000        0\n",
      "317       2   0  54.000000      0      0   14.0000        0\n",
      "318       1   1  31.000000      0      2  164.8667        0\n",
      "319       1   1  40.000000      1      1  134.5000        1\n",
      "320       3   0  22.000000      0      0    7.2500        0\n",
      "321       3   0  27.000000      0      0    7.8958        0\n",
      "322       2   1  30.000000      0      0   12.3500        2\n",
      "323       2   1  22.000000      1      1   29.0000        0\n",
      "324       3   0  29.699118      8      2   69.5500        0\n",
      "325       1   1  36.000000      0      0  135.6333        1\n",
      "326       3   0  61.000000      0      0    6.2375        0\n",
      "..      ...  ..        ...    ...    ...       ...      ...\n",
      "861       2   0  21.000000      1      0   11.5000        0\n",
      "862       1   1  48.000000      0      0   25.9292        0\n",
      "863       3   1  29.699118      8      2   69.5500        0\n",
      "864       2   0  24.000000      0      0   13.0000        0\n",
      "865       2   1  42.000000      0      0   13.0000        0\n",
      "866       2   1  27.000000      1      0   13.8583        1\n",
      "867       1   0  31.000000      0      0   50.4958        0\n",
      "868       3   0  29.699118      0      0    9.5000        0\n",
      "869       3   0   4.000000      1      1   11.1333        0\n",
      "870       3   0  26.000000      0      0    7.8958        0\n",
      "871       1   1  47.000000      1      1   52.5542        0\n",
      "872       1   0  33.000000      0      0    5.0000        0\n",
      "873       3   0  47.000000      0      0    9.0000        0\n",
      "874       2   1  28.000000      1      0   24.0000        1\n",
      "875       3   1  15.000000      0      0    7.2250        1\n",
      "876       3   0  20.000000      0      0    9.8458        0\n",
      "877       3   0  19.000000      0      0    7.8958        0\n",
      "878       3   0  29.699118      0      0    7.8958        0\n",
      "879       1   1  56.000000      0      1   83.1583        1\n",
      "880       2   1  25.000000      0      1   26.0000        0\n",
      "881       3   0  33.000000      0      0    7.8958        0\n",
      "882       3   1  22.000000      0      0   10.5167        0\n",
      "883       2   0  28.000000      0      0   10.5000        0\n",
      "884       3   0  25.000000      0      0    7.0500        0\n",
      "885       3   1  39.000000      0      5   29.1250        2\n",
      "886       2   0  27.000000      0      0   13.0000        0\n",
      "887       1   1  19.000000      0      0   30.0000        0\n",
      "888       3   1  29.699118      1      2   23.4500        0\n",
      "889       1   0  26.000000      0      0   30.0000        1\n",
      "890       3   0  32.000000      0      0    7.7500        2\n",
      "\n",
      "[594 rows x 7 columns]\n",
      "(594, 7)\n",
      "<class 'pandas.core.frame.DataFrame'>\n",
      "     Pclass Sex        Age  SibSp  Parch      Fare Embarked\n",
      "0         3   0  22.000000      1      0    7.2500        0\n",
      "1         1   1  38.000000      1      0   71.2833        1\n",
      "2         3   1  26.000000      0      0    7.9250        0\n",
      "3         1   1  35.000000      1      0   53.1000        0\n",
      "4         3   0  35.000000      0      0    8.0500        0\n",
      "5         3   0  29.699118      0      0    8.4583        2\n",
      "6         1   0  54.000000      0      0   51.8625        0\n",
      "7         3   0   2.000000      3      1   21.0750        0\n",
      "8         3   1  27.000000      0      2   11.1333        0\n",
      "9         2   1  14.000000      1      0   30.0708        1\n",
      "10        3   1   4.000000      1      1   16.7000        0\n",
      "11        1   1  58.000000      0      0   26.5500        0\n",
      "12        3   0  20.000000      0      0    8.0500        0\n",
      "13        3   0  39.000000      1      5   31.2750        0\n",
      "14        3   1  14.000000      0      0    7.8542        0\n",
      "15        2   1  55.000000      0      0   16.0000        0\n",
      "16        3   0   2.000000      4      1   29.1250        2\n",
      "17        2   0  29.699118      0      0   13.0000        0\n",
      "18        3   1  31.000000      1      0   18.0000        0\n",
      "19        3   1  29.699118      0      0    7.2250        1\n",
      "20        2   0  35.000000      0      0   26.0000        0\n",
      "21        2   0  34.000000      0      0   13.0000        0\n",
      "22        3   1  15.000000      0      0    8.0292        2\n",
      "23        1   0  28.000000      0      0   35.5000        0\n",
      "24        3   1   8.000000      3      1   21.0750        0\n",
      "25        3   1  38.000000      1      5   31.3875        0\n",
      "26        3   0  29.699118      0      0    7.2250        1\n",
      "27        1   0  19.000000      3      2  263.0000        0\n",
      "28        3   1  29.699118      0      0    7.8792        2\n",
      "29        3   0  29.699118      0      0    7.8958        0\n",
      "..      ...  ..        ...    ...    ...       ...      ...\n",
      "861       2   0  21.000000      1      0   11.5000        0\n",
      "862       1   1  48.000000      0      0   25.9292        0\n",
      "863       3   1  29.699118      8      2   69.5500        0\n",
      "864       2   0  24.000000      0      0   13.0000        0\n",
      "865       2   1  42.000000      0      0   13.0000        0\n",
      "866       2   1  27.000000      1      0   13.8583        1\n",
      "867       1   0  31.000000      0      0   50.4958        0\n",
      "868       3   0  29.699118      0      0    9.5000        0\n",
      "869       3   0   4.000000      1      1   11.1333        0\n",
      "870       3   0  26.000000      0      0    7.8958        0\n",
      "871       1   1  47.000000      1      1   52.5542        0\n",
      "872       1   0  33.000000      0      0    5.0000        0\n",
      "873       3   0  47.000000      0      0    9.0000        0\n",
      "874       2   1  28.000000      1      0   24.0000        1\n",
      "875       3   1  15.000000      0      0    7.2250        1\n",
      "876       3   0  20.000000      0      0    9.8458        0\n",
      "877       3   0  19.000000      0      0    7.8958        0\n",
      "878       3   0  29.699118      0      0    7.8958        0\n",
      "879       1   1  56.000000      0      1   83.1583        1\n",
      "880       2   1  25.000000      0      1   26.0000        0\n",
      "881       3   0  33.000000      0      0    7.8958        0\n",
      "882       3   1  22.000000      0      0   10.5167        0\n",
      "883       2   0  28.000000      0      0   10.5000        0\n",
      "884       3   0  25.000000      0      0    7.0500        0\n",
      "885       3   1  39.000000      0      5   29.1250        2\n",
      "886       2   0  27.000000      0      0   13.0000        0\n",
      "887       1   1  19.000000      0      0   30.0000        0\n",
      "888       3   1  29.699118      1      2   23.4500        0\n",
      "889       1   0  26.000000      0      0   30.0000        1\n",
      "890       3   0  32.000000      0      0    7.7500        2\n",
      "\n",
      "[594 rows x 7 columns]\n",
      "(594, 7)\n",
      "<class 'pandas.core.frame.DataFrame'>\n",
      "     Pclass Sex        Age  SibSp  Parch      Fare Embarked\n",
      "0         3   0  22.000000      1      0    7.2500        0\n",
      "1         1   1  38.000000      1      0   71.2833        1\n",
      "2         3   1  26.000000      0      0    7.9250        0\n",
      "3         1   1  35.000000      1      0   53.1000        0\n",
      "4         3   0  35.000000      0      0    8.0500        0\n",
      "5         3   0  29.699118      0      0    8.4583        2\n",
      "6         1   0  54.000000      0      0   51.8625        0\n",
      "7         3   0   2.000000      3      1   21.0750        0\n",
      "8         3   1  27.000000      0      2   11.1333        0\n",
      "9         2   1  14.000000      1      0   30.0708        1\n",
      "10        3   1   4.000000      1      1   16.7000        0\n",
      "11        1   1  58.000000      0      0   26.5500        0\n",
      "12        3   0  20.000000      0      0    8.0500        0\n",
      "13        3   0  39.000000      1      5   31.2750        0\n",
      "14        3   1  14.000000      0      0    7.8542        0\n",
      "15        2   1  55.000000      0      0   16.0000        0\n",
      "16        3   0   2.000000      4      1   29.1250        2\n",
      "17        2   0  29.699118      0      0   13.0000        0\n",
      "18        3   1  31.000000      1      0   18.0000        0\n",
      "19        3   1  29.699118      0      0    7.2250        1\n",
      "20        2   0  35.000000      0      0   26.0000        0\n",
      "21        2   0  34.000000      0      0   13.0000        0\n",
      "22        3   1  15.000000      0      0    8.0292        2\n",
      "23        1   0  28.000000      0      0   35.5000        0\n",
      "24        3   1   8.000000      3      1   21.0750        0\n",
      "25        3   1  38.000000      1      5   31.3875        0\n",
      "26        3   0  29.699118      0      0    7.2250        1\n",
      "27        1   0  19.000000      3      2  263.0000        0\n",
      "28        3   1  29.699118      0      0    7.8792        2\n",
      "29        3   0  29.699118      0      0    7.8958        0\n",
      "..      ...  ..        ...    ...    ...       ...      ...\n",
      "564       3   1  29.699118      0      0    8.0500        0\n",
      "565       3   0  24.000000      2      0   24.1500        0\n",
      "566       3   0  19.000000      0      0    7.8958        0\n",
      "567       3   1  29.000000      0      4   21.0750        0\n",
      "568       3   0  29.699118      0      0    7.2292        1\n",
      "569       3   0  32.000000      0      0    7.8542        0\n",
      "570       2   0  62.000000      0      0   10.5000        0\n",
      "571       1   1  53.000000      2      0   51.4792        0\n",
      "572       1   0  36.000000      0      0   26.3875        0\n",
      "573       3   1  29.699118      0      0    7.7500        2\n",
      "574       3   0  16.000000      0      0    8.0500        0\n",
      "575       3   0  19.000000      0      0   14.5000        0\n",
      "576       2   1  34.000000      0      0   13.0000        0\n",
      "577       1   1  39.000000      1      0   55.9000        0\n",
      "578       3   1  29.699118      1      0   14.4583        1\n",
      "579       3   0  32.000000      0      0    7.9250        0\n",
      "580       2   1  25.000000      1      1   30.0000        0\n",
      "581       1   1  39.000000      1      1  110.8833        1\n",
      "582       2   0  54.000000      0      0   26.0000        0\n",
      "583       1   0  36.000000      0      0   40.1250        1\n",
      "584       3   0  29.699118      0      0    8.7125        1\n",
      "585       1   1  18.000000      0      2   79.6500        0\n",
      "586       2   0  47.000000      0      0   15.0000        0\n",
      "587       1   0  60.000000      1      1   79.2000        1\n",
      "588       3   0  22.000000      0      0    8.0500        0\n",
      "589       3   0  29.699118      0      0    8.0500        0\n",
      "590       3   0  35.000000      0      0    7.1250        0\n",
      "591       1   1  52.000000      1      0   78.2667        1\n",
      "592       3   0  47.000000      0      0    7.2500        0\n",
      "593       3   1  29.699118      0      2    7.7500        2\n",
      "\n",
      "[594 rows x 7 columns]\n",
      "(594, 7)\n"
     ]
    }
   ],
   "source": [
    "# Import the linear regression class\n",
    "from sklearn.linear_model import LinearRegression\n",
    "# Sklearn also has a helper that makes it easy to do cross validation\n",
    "from sklearn.cross_validation import KFold\n",
    "\n",
    "# The columns we'll use to predict the target\n",
    "predictors = [\"Pclass\", \"Sex\", \"Age\", \"SibSp\", \"Parch\", \"Fare\", \"Embarked\"]\n",
    "\n",
    "# Initialize our algorithm class\n",
    "alg = LinearRegression()\n",
    "# Generate cross validation folds for the titanic dataset.  It return the row indices corresponding to train and test.\n",
    "# We set random_state to ensure we get the same splits every time we run this.\n",
    "kf = KFold(titanic.shape[0], n_folds=3, random_state=1)\n",
    "\n",
    "predictions = []\n",
    "for train, test in kf:\n",
    "    # The predictors we're using the train the algorithm.  Note how we only take the rows in the train folds.\n",
    "    train_predictors = (titanic[predictors].iloc[train,:])\n",
    "    print type(train_predictors)\n",
    "    print train_predictors\n",
    "    print train_predictors.shape\n",
    "    # The target we're using to train the algorithm.\n",
    "    train_target = titanic[\"Survived\"].iloc[train]\n",
    "    # Training the algorithm using the predictors and target.\n",
    "    alg.fit(train_predictors, train_target)\n",
    "    # We can now make predictions on the test fold\n",
    "    test_predictions = alg.predict(titanic[predictors].iloc[test,:])\n",
    "    predictions.append(test_predictions)"
   ]
  },
  {
   "cell_type": "code",
   "execution_count": 6,
   "metadata": {
    "collapsed": false
   },
   "outputs": [
    {
     "name": "stdout",
     "output_type": "stream",
     "text": [
      "0.785634118967\n"
     ]
    },
    {
     "name": "stderr",
     "output_type": "stream",
     "text": [
      "/Users/wakemeup/anaconda/lib/python2.7/site-packages/ipykernel/__main__.py:10: FutureWarning: in the future, boolean array-likes will be handled as a boolean array index\n"
     ]
    }
   ],
   "source": [
    "import numpy as np\n",
    "\n",
    "# The predictions are in three separate numpy arrays.  Concatenate them into one.  \n",
    "# We concatenate them on axis 0, as they only have one axis.\n",
    "predictions = np.concatenate(predictions, axis=0)\n",
    "\n",
    "# Map predictions to outcomes (only possible outcomes are 1 and 0)\n",
    "predictions[predictions > .5] = 1\n",
    "predictions[predictions <=.5] = 0\n",
    "accuracy = sum(predictions[predictions == titanic[\"Survived\"]]) / len(predictions)\n",
    "print accuracy"
   ]
  },
  {
   "cell_type": "code",
   "execution_count": 7,
   "metadata": {
    "collapsed": false
   },
   "outputs": [
    {
     "name": "stdout",
     "output_type": "stream",
     "text": [
      "0.79012345679\n"
     ]
    }
   ],
   "source": [
    "from sklearn import cross_validation\n",
    "from sklearn.linear_model import LogisticRegression\n",
    "# Initialize our algorithm\n",
    "alg = LogisticRegression(random_state=1)\n",
    "# Compute the accuracy score for all the cross validation folds.  (much simpler than what we did before!)\n",
    "scores = cross_validation.cross_val_score(alg, titanic[predictors], titanic[\"Survived\"], cv=3)\n",
    "# Take the mean of the scores (because we have one for each fold)\n",
    "print(scores.mean())"
   ]
  },
  {
   "cell_type": "code",
   "execution_count": 8,
   "metadata": {
    "collapsed": false
   },
   "outputs": [],
   "source": [
    "titanic_test = pandas.read_csv(\"test.csv\")\n",
    "titanic_test[\"Age\"] = titanic_test[\"Age\"].fillna(titanic[\"Age\"].median())\n",
    "titanic_test[\"Fare\"] = titanic_test[\"Fare\"].fillna(titanic_test[\"Fare\"].median())\n",
    "titanic_test.loc[titanic_test[\"Sex\"] == \"male\", \"Sex\"] = 0 \n",
    "titanic_test.loc[titanic_test[\"Sex\"] == \"female\", \"Sex\"] = 1\n",
    "titanic_test[\"Embarked\"] = titanic_test[\"Embarked\"].fillna(\"S\")\n",
    "\n",
    "titanic_test.loc[titanic_test[\"Embarked\"] == \"S\", \"Embarked\"] = 0\n",
    "titanic_test.loc[titanic_test[\"Embarked\"] == \"C\", \"Embarked\"] = 1\n",
    "titanic_test.loc[titanic_test[\"Embarked\"] == \"Q\", \"Embarked\"] = 2"
   ]
  },
  {
   "cell_type": "code",
   "execution_count": 9,
   "metadata": {
    "collapsed": false
   },
   "outputs": [
    {
     "name": "stdout",
     "output_type": "stream",
     "text": [
      "0.794612794613\n"
     ]
    }
   ],
   "source": [
    "from sklearn import cross_validation\n",
    "from sklearn.ensemble import RandomForestClassifier\n",
    "\n",
    "predictors = [\"Pclass\", \"Sex\", \"Age\", \"SibSp\", \"Parch\", \"Fare\", \"Embarked\"]\n",
    "\n",
    "# Initialize our algorithm with the default paramters\n",
    "# n_estimators is the number of trees we want to make\n",
    "# min_samples_split is the minimum number of rows we need to make a split\n",
    "# min_samples_leaf is the minimum number of samples we can have at the place where a tree branch ends (the bottom points of the tree)\n",
    "alg = RandomForestClassifier(random_state=1, n_estimators=10, min_samples_split=2, min_samples_leaf=1)\n",
    "# Compute the accuracy score for all the cross validation folds.  (much simpler than what we did before!)\n",
    "kf = cross_validation.KFold(titanic.shape[0], n_folds=3, random_state=1)\n",
    "scores = cross_validation.cross_val_score(alg, titanic[predictors], titanic[\"Survived\"], cv=kf)\n",
    "\n",
    "# Take the mean of the scores (because we have one for each fold)\n",
    "print(scores.mean())"
   ]
  },
  {
   "cell_type": "code",
   "execution_count": 10,
   "metadata": {
    "collapsed": false
   },
   "outputs": [
    {
     "name": "stdout",
     "output_type": "stream",
     "text": [
      "0.830527497194\n"
     ]
    }
   ],
   "source": [
    "alg = RandomForestClassifier(random_state=1, n_estimators=100, min_samples_split=4, min_samples_leaf=2)\n",
    "# Compute the accuracy score for all the cross validation folds.  (much simpler than what we did before!)\n",
    "kf = cross_validation.KFold(titanic.shape[0], 3, random_state=1)\n",
    "scores = cross_validation.cross_val_score(alg, titanic[predictors], titanic[\"Survived\"], cv=kf)\n",
    "\n",
    "# Take the mean of the scores (because we have one for each fold)\n",
    "print(scores.mean())"
   ]
  },
  {
   "cell_type": "code",
   "execution_count": 11,
   "metadata": {
    "collapsed": true
   },
   "outputs": [],
   "source": [
    "# Generating a familysize column\n",
    "titanic[\"FamilySize\"] = titanic[\"SibSp\"] + titanic[\"Parch\"]\n",
    "\n",
    "# The .apply method generates a new series\n",
    "titanic[\"NameLength\"] = titanic[\"Name\"].apply(lambda x: len(x))"
   ]
  },
  {
   "cell_type": "code",
   "execution_count": null,
   "metadata": {
    "collapsed": false
   },
   "outputs": [
    {
     "name": "stdout",
     "output_type": "stream",
     "text": [
      "Mr          517\n",
      "Miss        182\n",
      "Mrs         125\n",
      "Master       40\n",
      "Dr            7\n",
      "Rev           6\n",
      "Col           2\n",
      "Major         2\n",
      "Mlle          2\n",
      "Countess      1\n",
      "Ms            1\n",
      "Lady          1\n",
      "Jonkheer      1\n",
      "Don           1\n",
      "Mme           1\n",
      "Capt          1\n",
      "Sir           1\n",
      "Name: Name, dtype: int64\n",
      "1     517\n",
      "2     183\n",
      "3     125\n",
      "4      40\n",
      "5       7\n",
      "6       6\n",
      "7       5\n",
      "10      3\n",
      "8       3\n",
      "9       2\n",
      "Name: Name, dtype: int64\n"
     ]
    }
   ],
   "source": [
    "import re\n",
    "\n",
    "# A function to get the title from a name.\n",
    "def get_title(name):\n",
    "    # Use a regular expression to search for a title.  Titles always consist of capital and lowercase letters, and end with a period.\n",
    "    title_search = re.search(' ([A-Za-z]+)\\.', name)\n",
    "    # If the title exists, extract and return it.\n",
    "    if title_search:\n",
    "        return title_search.group(1)\n",
    "    return \"\"\n",
    "\n",
    "# Get all the titles and print how often each one occurs.\n",
    "titles = titanic[\"Name\"].apply(get_title)\n",
    "print(pandas.value_counts(titles))\n",
    "\n",
    "# Map each title to an integer.  Some titles are very rare, and are compressed into the same codes as other titles.\n",
    "title_mapping = {\"Mr\": 1, \"Miss\": 2, \"Mrs\": 3, \"Master\": 4, \"Dr\": 5, \"Rev\": 6, \"Major\": 7, \"Col\": 7, \"Mlle\": 8, \"Mme\": 8, \"Don\": 9, \"Lady\": 10, \"Countess\": 10, \"Jonkheer\": 10, \"Sir\": 9, \"Capt\": 7, \"Ms\": 2}\n",
    "for k,v in title_mapping.items():\n",
    "    titles[titles == k] = v\n",
    "\n",
    "# Verify that we converted everything.\n",
    "print(pandas.value_counts(titles))\n",
    "\n",
    "# Add in the title column.\n",
    "titanic[\"Title\"] = titles"
   ]
  },
  {
   "cell_type": "code",
   "execution_count": null,
   "metadata": {
    "collapsed": false
   },
   "outputs": [],
   "source": [
    "import numpy as np\n",
    "from sklearn.feature_selection import SelectKBest, f_classif\n",
    "import matplotlib.pyplot as plt\n",
    "predictors = [\"Pclass\", \"Sex\", \"Age\", \"SibSp\", \"Parch\", \"Fare\", \"Embarked\", \"FamilySize\", \"Title\", \"NameLength\"]\n",
    "\n",
    "# Perform feature selection\n",
    "selector = SelectKBest(f_classif, k=5)\n",
    "selector.fit(titanic[predictors], titanic[\"Survived\"])\n",
    "\n",
    "# Get the raw p-values for each feature, and transform from p-values into scores\n",
    "scores = -np.log10(selector.pvalues_)\n",
    "\n",
    "# Plot the scores.  See how \"Pclass\", \"Sex\", \"Title\", and \"Fare\" are the best?\n",
    "plt.bar(range(len(predictors)), scores)\n",
    "plt.xticks(range(len(predictors)), predictors, rotation='vertical')\n",
    "plt.show()\n",
    "\n",
    "# Pick only the four best features.\n",
    "predictors = [\"Pclass\", \"Sex\", \"Fare\", \"Title\"]\n",
    "\n",
    "alg = RandomForestClassifier(random_state=1, n_estimators=50, min_samples_split=8, min_samples_leaf=4)"
   ]
  },
  {
   "cell_type": "code",
   "execution_count": null,
   "metadata": {
    "collapsed": false
   },
   "outputs": [],
   "source": [
    "from sklearn.ensemble import GradientBoostingClassifier\n",
    "import numpy as np\n",
    "\n",
    "# The algorithms we want to ensemble.\n",
    "# We're using the more linear predictors for the logistic regression, and everything with the gradient boosting classifier.\n",
    "algorithms = [\n",
    "    [GradientBoostingClassifier(random_state=1, n_estimators=25, max_depth=3), [\"Pclass\", \"Sex\", \"Age\", \"Fare\", \"Embarked\", \"FamilySize\", \"Title\",]],\n",
    "    [LogisticRegression(random_state=1), [\"Pclass\", \"Sex\", \"Fare\", \"FamilySize\", \"Title\", \"Age\", \"Embarked\"]]\n",
    "]\n",
    "\n",
    "# Initialize the cross validation folds\n",
    "kf = KFold(titanic.shape[0], n_folds=3, random_state=1)\n",
    "\n",
    "predictions = []\n",
    "for train, test in kf:\n",
    "    train_target = titanic[\"Survived\"].iloc[train]\n",
    "    full_test_predictions = []\n",
    "    # Make predictions for each algorithm on each fold\n",
    "    for alg, predictors in algorithms:\n",
    "        # Fit the algorithm on the training data.\n",
    "        alg.fit(titanic[predictors].iloc[train,:], train_target)\n",
    "        # Select and predict on the test fold.  \n",
    "        # The .astype(float) is necessary to convert the dataframe to all floats and avoid an sklearn error.\n",
    "        test_predictions = alg.predict_proba(titanic[predictors].iloc[test,:].astype(float))[:,1]\n",
    "        full_test_predictions.append(test_predictions)\n",
    "    # Use a simple ensembling scheme -- just average the predictions to get the final classification.\n",
    "    test_predictions = (full_test_predictions[0] + full_test_predictions[1]) / 2\n",
    "    # Any value over .5 is assumed to be a 1 prediction, and below .5 is a 0 prediction.\n",
    "    test_predictions[test_predictions <= .5] = 0\n",
    "    test_predictions[test_predictions > .5] = 1\n",
    "    predictions.append(test_predictions)\n",
    "\n",
    "# Put all the predictions together into one array.\n",
    "predictions = np.concatenate(predictions, axis=0)\n",
    "\n",
    "# Compute accuracy by comparing to the training data.\n",
    "accuracy = sum(predictions[predictions == titanic[\"Survived\"]]) / len(predictions)\n",
    "print(accuracy)\n"
   ]
  },
  {
   "cell_type": "code",
   "execution_count": null,
   "metadata": {
    "collapsed": false
   },
   "outputs": [],
   "source": [
    "titles = titanic_test[\"Name\"].apply(get_title)\n",
    "# We're adding the Dona title to the mapping, because it's in the test set, but not the training set\n",
    "title_mapping = {\"Mr\": 1, \"Miss\": 2, \"Mrs\": 3, \"Master\": 4, \"Dr\": 5, \"Rev\": 6, \"Major\": 7, \"Col\": 7, \"Mlle\": 8, \"Mme\": 8, \"Don\": 9, \"Lady\": 10, \"Countess\": 10, \"Jonkheer\": 10, \"Sir\": 9, \"Capt\": 7, \"Ms\": 2, \"Dona\": 10}\n",
    "for k,v in title_mapping.items():\n",
    "    titles[titles == k] = v\n",
    "titanic_test[\"Title\"] = titles\n",
    "# Check the counts of each unique title.\n",
    "print(pandas.value_counts(titanic_test[\"Title\"]))\n",
    "\n",
    "# Now, we add the family size column.\n",
    "titanic_test[\"FamilySize\"] = titanic_test[\"SibSp\"] + titanic_test[\"Parch\"]\n",
    "\n"
   ]
  },
  {
   "cell_type": "code",
   "execution_count": null,
   "metadata": {
    "collapsed": false
   },
   "outputs": [],
   "source": [
    "predictors = [\"Pclass\", \"Sex\", \"Age\", \"Fare\", \"Embarked\", \"FamilySize\", \"Title\"]\n",
    "\n",
    "algorithms = [\n",
    "    [GradientBoostingClassifier(random_state=1, n_estimators=25, max_depth=3), predictors],\n",
    "    [LogisticRegression(random_state=1), [\"Pclass\", \"Sex\", \"Fare\", \"FamilySize\", \"Title\", \"Age\", \"Embarked\"]]\n",
    "]\n",
    "\n",
    "full_predictions = []\n",
    "for alg, predictors in algorithms:\n",
    "    # Fit the algorithm using the full training data.\n",
    "    alg.fit(titanic[predictors], titanic[\"Survived\"])\n",
    "    # Predict using the test dataset.  We have to convert all the columns to floats to avoid an error.\n",
    "    predictions = alg.predict_proba(titanic_test[predictors].astype(float))[:,1]\n",
    "    full_predictions.append(predictions)\n",
    "\n",
    "# The gradient boosting classifier generates better predictions, so we weight it higher.\n",
    "predictions = (full_predictions[0] * 3 + full_predictions[1]) / 4\n",
    "print predictions"
   ]
  },
  {
   "cell_type": "code",
   "execution_count": null,
   "metadata": {
    "collapsed": true
   },
   "outputs": [],
   "source": []
  },
  {
   "cell_type": "code",
   "execution_count": null,
   "metadata": {
    "collapsed": true
   },
   "outputs": [],
   "source": []
  }
 ],
 "metadata": {
  "anaconda-cloud": {},
  "kernelspec": {
   "display_name": "Python [Root]",
   "language": "python",
   "name": "Python [Root]"
  },
  "language_info": {
   "codemirror_mode": {
    "name": "ipython",
    "version": 2
   },
   "file_extension": ".py",
   "mimetype": "text/x-python",
   "name": "python",
   "nbconvert_exporter": "python",
   "pygments_lexer": "ipython2",
   "version": "2.7.12"
  }
 },
 "nbformat": 4,
 "nbformat_minor": 1
}
