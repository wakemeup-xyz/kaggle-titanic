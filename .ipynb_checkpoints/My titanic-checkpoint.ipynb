{
 "cells": [
  {
   "cell_type": "markdown",
   "metadata": {},
   "source": [
    "### my prediction for taitannike \n",
    "#### By Ubuntu hunter 乌班图小猎手\n",
    "### 正确率: rank: "
   ]
  },
  {
   "cell_type": "code",
   "execution_count": 1,
   "metadata": {
    "collapsed": true
   },
   "outputs": [],
   "source": [
    "# -*- coding:utf-8 -*-\n",
    "\n",
    "\"\"\"\n",
    "import sys\n",
    "reload(sys)\n",
    "sys.setdefaultencoding('utf8')\n",
    "\"\"\"\n",
    "import sitecustomize\n",
    "#import the package you need\n",
    "import numpy as np\n",
    "import pandas as pd\n",
    "import matplotlib.pyplot as plt\n",
    "import seaborn as sns\n",
    "import re #Regular Expression\n",
    "%matplotlib inline"
   ]
  },
  {
   "cell_type": "code",
   "execution_count": 2,
   "metadata": {
    "collapsed": true
   },
   "outputs": [],
   "source": [
    "# 加载数据\n",
    "train = pd.read_csv('train.csv')\n",
    "test = pd.read_csv('test.csv')\n"
   ]
  },
  {
   "cell_type": "code",
   "execution_count": 3,
   "metadata": {
    "collapsed": false
   },
   "outputs": [
    {
     "name": "stdout",
     "output_type": "stream",
     "text": [
      "<class 'pandas.core.frame.DataFrame'>\n",
      "RangeIndex: 891 entries, 0 to 890\n",
      "Data columns (total 12 columns):\n",
      "PassengerId    891 non-null int64\n",
      "Survived       891 non-null int64\n",
      "Pclass         891 non-null int64\n",
      "Name           891 non-null object\n",
      "Sex            891 non-null object\n",
      "Age            714 non-null float64\n",
      "SibSp          891 non-null int64\n",
      "Parch          891 non-null int64\n",
      "Ticket         891 non-null object\n",
      "Fare           891 non-null float64\n",
      "Cabin          204 non-null object\n",
      "Embarked       889 non-null object\n",
      "dtypes: float64(2), int64(5), object(5)\n",
      "memory usage: 83.6+ KB\n"
     ]
    },
    {
     "name": "stderr",
     "output_type": "stream",
     "text": [
      "/Users/wakemeup/anaconda/lib/python2.7/site-packages/numpy/lib/function_base.py:3834: RuntimeWarning: Invalid value encountered in percentile\n",
      "  RuntimeWarning)\n"
     ]
    },
    {
     "data": {
      "text/html": [
       "<div>\n",
       "<table border=\"1\" class=\"dataframe\">\n",
       "  <thead>\n",
       "    <tr style=\"text-align: right;\">\n",
       "      <th></th>\n",
       "      <th>PassengerId</th>\n",
       "      <th>Survived</th>\n",
       "      <th>Pclass</th>\n",
       "      <th>Age</th>\n",
       "      <th>SibSp</th>\n",
       "      <th>Parch</th>\n",
       "      <th>Fare</th>\n",
       "    </tr>\n",
       "  </thead>\n",
       "  <tbody>\n",
       "    <tr>\n",
       "      <th>count</th>\n",
       "      <td>891.000000</td>\n",
       "      <td>891.000000</td>\n",
       "      <td>891.000000</td>\n",
       "      <td>714.000000</td>\n",
       "      <td>891.000000</td>\n",
       "      <td>891.000000</td>\n",
       "      <td>891.000000</td>\n",
       "    </tr>\n",
       "    <tr>\n",
       "      <th>mean</th>\n",
       "      <td>446.000000</td>\n",
       "      <td>0.383838</td>\n",
       "      <td>2.308642</td>\n",
       "      <td>29.699118</td>\n",
       "      <td>0.523008</td>\n",
       "      <td>0.381594</td>\n",
       "      <td>32.204208</td>\n",
       "    </tr>\n",
       "    <tr>\n",
       "      <th>std</th>\n",
       "      <td>257.353842</td>\n",
       "      <td>0.486592</td>\n",
       "      <td>0.836071</td>\n",
       "      <td>14.526497</td>\n",
       "      <td>1.102743</td>\n",
       "      <td>0.806057</td>\n",
       "      <td>49.693429</td>\n",
       "    </tr>\n",
       "    <tr>\n",
       "      <th>min</th>\n",
       "      <td>1.000000</td>\n",
       "      <td>0.000000</td>\n",
       "      <td>1.000000</td>\n",
       "      <td>0.420000</td>\n",
       "      <td>0.000000</td>\n",
       "      <td>0.000000</td>\n",
       "      <td>0.000000</td>\n",
       "    </tr>\n",
       "    <tr>\n",
       "      <th>25%</th>\n",
       "      <td>223.500000</td>\n",
       "      <td>0.000000</td>\n",
       "      <td>2.000000</td>\n",
       "      <td>NaN</td>\n",
       "      <td>0.000000</td>\n",
       "      <td>0.000000</td>\n",
       "      <td>7.910400</td>\n",
       "    </tr>\n",
       "    <tr>\n",
       "      <th>50%</th>\n",
       "      <td>446.000000</td>\n",
       "      <td>0.000000</td>\n",
       "      <td>3.000000</td>\n",
       "      <td>NaN</td>\n",
       "      <td>0.000000</td>\n",
       "      <td>0.000000</td>\n",
       "      <td>14.454200</td>\n",
       "    </tr>\n",
       "    <tr>\n",
       "      <th>75%</th>\n",
       "      <td>668.500000</td>\n",
       "      <td>1.000000</td>\n",
       "      <td>3.000000</td>\n",
       "      <td>NaN</td>\n",
       "      <td>1.000000</td>\n",
       "      <td>0.000000</td>\n",
       "      <td>31.000000</td>\n",
       "    </tr>\n",
       "    <tr>\n",
       "      <th>max</th>\n",
       "      <td>891.000000</td>\n",
       "      <td>1.000000</td>\n",
       "      <td>3.000000</td>\n",
       "      <td>80.000000</td>\n",
       "      <td>8.000000</td>\n",
       "      <td>6.000000</td>\n",
       "      <td>512.329200</td>\n",
       "    </tr>\n",
       "  </tbody>\n",
       "</table>\n",
       "</div>"
      ],
      "text/plain": [
       "       PassengerId    Survived      Pclass         Age       SibSp  \\\n",
       "count   891.000000  891.000000  891.000000  714.000000  891.000000   \n",
       "mean    446.000000    0.383838    2.308642   29.699118    0.523008   \n",
       "std     257.353842    0.486592    0.836071   14.526497    1.102743   \n",
       "min       1.000000    0.000000    1.000000    0.420000    0.000000   \n",
       "25%     223.500000    0.000000    2.000000         NaN    0.000000   \n",
       "50%     446.000000    0.000000    3.000000         NaN    0.000000   \n",
       "75%     668.500000    1.000000    3.000000         NaN    1.000000   \n",
       "max     891.000000    1.000000    3.000000   80.000000    8.000000   \n",
       "\n",
       "            Parch        Fare  \n",
       "count  891.000000  891.000000  \n",
       "mean     0.381594   32.204208  \n",
       "std      0.806057   49.693429  \n",
       "min      0.000000    0.000000  \n",
       "25%      0.000000    7.910400  \n",
       "50%      0.000000   14.454200  \n",
       "75%      0.000000   31.000000  \n",
       "max      6.000000  512.329200  "
      ]
     },
     "execution_count": 3,
     "metadata": {},
     "output_type": "execute_result"
    }
   ],
   "source": [
    "# 描述训练数据\n",
    "train.info()\n",
    "\n",
    "train.describe()\n",
    "\n"
   ]
  },
  {
   "cell_type": "code",
   "execution_count": 4,
   "metadata": {
    "collapsed": false
   },
   "outputs": [
    {
     "data": {
      "text/html": [
       "<div>\n",
       "<table border=\"1\" class=\"dataframe\">\n",
       "  <thead>\n",
       "    <tr style=\"text-align: right;\">\n",
       "      <th></th>\n",
       "      <th>PassengerId</th>\n",
       "      <th>Survived</th>\n",
       "      <th>Pclass</th>\n",
       "      <th>Name</th>\n",
       "      <th>Sex</th>\n",
       "      <th>Age</th>\n",
       "      <th>SibSp</th>\n",
       "      <th>Parch</th>\n",
       "      <th>Ticket</th>\n",
       "      <th>Fare</th>\n",
       "      <th>Cabin</th>\n",
       "      <th>Embarked</th>\n",
       "    </tr>\n",
       "  </thead>\n",
       "  <tbody>\n",
       "    <tr>\n",
       "      <th>0</th>\n",
       "      <td>1</td>\n",
       "      <td>0</td>\n",
       "      <td>3</td>\n",
       "      <td>Braund, Mr. Owen Harris</td>\n",
       "      <td>male</td>\n",
       "      <td>22.0</td>\n",
       "      <td>1</td>\n",
       "      <td>0</td>\n",
       "      <td>A/5 21171</td>\n",
       "      <td>7.2500</td>\n",
       "      <td>NaN</td>\n",
       "      <td>S</td>\n",
       "    </tr>\n",
       "    <tr>\n",
       "      <th>1</th>\n",
       "      <td>2</td>\n",
       "      <td>1</td>\n",
       "      <td>1</td>\n",
       "      <td>Cumings, Mrs. John Bradley (Florence Briggs Th...</td>\n",
       "      <td>female</td>\n",
       "      <td>38.0</td>\n",
       "      <td>1</td>\n",
       "      <td>0</td>\n",
       "      <td>PC 17599</td>\n",
       "      <td>71.2833</td>\n",
       "      <td>C85</td>\n",
       "      <td>C</td>\n",
       "    </tr>\n",
       "    <tr>\n",
       "      <th>2</th>\n",
       "      <td>3</td>\n",
       "      <td>1</td>\n",
       "      <td>3</td>\n",
       "      <td>Heikkinen, Miss. Laina</td>\n",
       "      <td>female</td>\n",
       "      <td>26.0</td>\n",
       "      <td>0</td>\n",
       "      <td>0</td>\n",
       "      <td>STON/O2. 3101282</td>\n",
       "      <td>7.9250</td>\n",
       "      <td>NaN</td>\n",
       "      <td>S</td>\n",
       "    </tr>\n",
       "    <tr>\n",
       "      <th>3</th>\n",
       "      <td>4</td>\n",
       "      <td>1</td>\n",
       "      <td>1</td>\n",
       "      <td>Futrelle, Mrs. Jacques Heath (Lily May Peel)</td>\n",
       "      <td>female</td>\n",
       "      <td>35.0</td>\n",
       "      <td>1</td>\n",
       "      <td>0</td>\n",
       "      <td>113803</td>\n",
       "      <td>53.1000</td>\n",
       "      <td>C123</td>\n",
       "      <td>S</td>\n",
       "    </tr>\n",
       "    <tr>\n",
       "      <th>4</th>\n",
       "      <td>5</td>\n",
       "      <td>0</td>\n",
       "      <td>3</td>\n",
       "      <td>Allen, Mr. William Henry</td>\n",
       "      <td>male</td>\n",
       "      <td>35.0</td>\n",
       "      <td>0</td>\n",
       "      <td>0</td>\n",
       "      <td>373450</td>\n",
       "      <td>8.0500</td>\n",
       "      <td>NaN</td>\n",
       "      <td>S</td>\n",
       "    </tr>\n",
       "  </tbody>\n",
       "</table>\n",
       "</div>"
      ],
      "text/plain": [
       "   PassengerId  Survived  Pclass  \\\n",
       "0            1         0       3   \n",
       "1            2         1       1   \n",
       "2            3         1       3   \n",
       "3            4         1       1   \n",
       "4            5         0       3   \n",
       "\n",
       "                                                Name     Sex   Age  SibSp  \\\n",
       "0                            Braund, Mr. Owen Harris    male  22.0      1   \n",
       "1  Cumings, Mrs. John Bradley (Florence Briggs Th...  female  38.0      1   \n",
       "2                             Heikkinen, Miss. Laina  female  26.0      0   \n",
       "3       Futrelle, Mrs. Jacques Heath (Lily May Peel)  female  35.0      1   \n",
       "4                           Allen, Mr. William Henry    male  35.0      0   \n",
       "\n",
       "   Parch            Ticket     Fare Cabin Embarked  \n",
       "0      0         A/5 21171   7.2500   NaN        S  \n",
       "1      0          PC 17599  71.2833   C85        C  \n",
       "2      0  STON/O2. 3101282   7.9250   NaN        S  \n",
       "3      0            113803  53.1000  C123        S  \n",
       "4      0            373450   8.0500   NaN        S  "
      ]
     },
     "execution_count": 4,
     "metadata": {},
     "output_type": "execute_result"
    }
   ],
   "source": [
    "train.head()"
   ]
  },
  {
   "cell_type": "code",
   "execution_count": 5,
   "metadata": {
    "collapsed": false
   },
   "outputs": [
    {
     "data": {
      "text/html": [
       "<div>\n",
       "<table border=\"1\" class=\"dataframe\">\n",
       "  <thead>\n",
       "    <tr style=\"text-align: right;\">\n",
       "      <th></th>\n",
       "      <th>PassengerId</th>\n",
       "      <th>Pclass</th>\n",
       "      <th>Name</th>\n",
       "      <th>Sex</th>\n",
       "      <th>Age</th>\n",
       "      <th>SibSp</th>\n",
       "      <th>Parch</th>\n",
       "      <th>Ticket</th>\n",
       "      <th>Fare</th>\n",
       "      <th>Cabin</th>\n",
       "      <th>Embarked</th>\n",
       "    </tr>\n",
       "  </thead>\n",
       "  <tbody>\n",
       "    <tr>\n",
       "      <th>0</th>\n",
       "      <td>892</td>\n",
       "      <td>3</td>\n",
       "      <td>Kelly, Mr. James</td>\n",
       "      <td>male</td>\n",
       "      <td>34.5</td>\n",
       "      <td>0</td>\n",
       "      <td>0</td>\n",
       "      <td>330911</td>\n",
       "      <td>7.8292</td>\n",
       "      <td>NaN</td>\n",
       "      <td>Q</td>\n",
       "    </tr>\n",
       "    <tr>\n",
       "      <th>1</th>\n",
       "      <td>893</td>\n",
       "      <td>3</td>\n",
       "      <td>Wilkes, Mrs. James (Ellen Needs)</td>\n",
       "      <td>female</td>\n",
       "      <td>47.0</td>\n",
       "      <td>1</td>\n",
       "      <td>0</td>\n",
       "      <td>363272</td>\n",
       "      <td>7.0000</td>\n",
       "      <td>NaN</td>\n",
       "      <td>S</td>\n",
       "    </tr>\n",
       "    <tr>\n",
       "      <th>2</th>\n",
       "      <td>894</td>\n",
       "      <td>2</td>\n",
       "      <td>Myles, Mr. Thomas Francis</td>\n",
       "      <td>male</td>\n",
       "      <td>62.0</td>\n",
       "      <td>0</td>\n",
       "      <td>0</td>\n",
       "      <td>240276</td>\n",
       "      <td>9.6875</td>\n",
       "      <td>NaN</td>\n",
       "      <td>Q</td>\n",
       "    </tr>\n",
       "    <tr>\n",
       "      <th>3</th>\n",
       "      <td>895</td>\n",
       "      <td>3</td>\n",
       "      <td>Wirz, Mr. Albert</td>\n",
       "      <td>male</td>\n",
       "      <td>27.0</td>\n",
       "      <td>0</td>\n",
       "      <td>0</td>\n",
       "      <td>315154</td>\n",
       "      <td>8.6625</td>\n",
       "      <td>NaN</td>\n",
       "      <td>S</td>\n",
       "    </tr>\n",
       "    <tr>\n",
       "      <th>4</th>\n",
       "      <td>896</td>\n",
       "      <td>3</td>\n",
       "      <td>Hirvonen, Mrs. Alexander (Helga E Lindqvist)</td>\n",
       "      <td>female</td>\n",
       "      <td>22.0</td>\n",
       "      <td>1</td>\n",
       "      <td>1</td>\n",
       "      <td>3101298</td>\n",
       "      <td>12.2875</td>\n",
       "      <td>NaN</td>\n",
       "      <td>S</td>\n",
       "    </tr>\n",
       "  </tbody>\n",
       "</table>\n",
       "</div>"
      ],
      "text/plain": [
       "   PassengerId  Pclass                                          Name     Sex  \\\n",
       "0          892       3                              Kelly, Mr. James    male   \n",
       "1          893       3              Wilkes, Mrs. James (Ellen Needs)  female   \n",
       "2          894       2                     Myles, Mr. Thomas Francis    male   \n",
       "3          895       3                              Wirz, Mr. Albert    male   \n",
       "4          896       3  Hirvonen, Mrs. Alexander (Helga E Lindqvist)  female   \n",
       "\n",
       "    Age  SibSp  Parch   Ticket     Fare Cabin Embarked  \n",
       "0  34.5      0      0   330911   7.8292   NaN        Q  \n",
       "1  47.0      1      0   363272   7.0000   NaN        S  \n",
       "2  62.0      0      0   240276   9.6875   NaN        Q  \n",
       "3  27.0      0      0   315154   8.6625   NaN        S  \n",
       "4  22.0      1      1  3101298  12.2875   NaN        S  "
      ]
     },
     "execution_count": 5,
     "metadata": {},
     "output_type": "execute_result"
    }
   ],
   "source": [
    "# 描述test数据\n",
    "test.head()"
   ]
  },
  {
   "cell_type": "code",
   "execution_count": 6,
   "metadata": {
    "collapsed": false
   },
   "outputs": [
    {
     "name": "stdout",
     "output_type": "stream",
     "text": [
      "PassengerId   -0.005007\n",
      "Survived       1.000000\n",
      "Pclass        -0.338481\n",
      "Age           -0.077221\n",
      "SibSp         -0.035322\n",
      "Parch          0.081629\n",
      "Fare           0.257307\n",
      "Name: Survived, dtype: float64\n"
     ]
    },
    {
     "data": {
      "text/plain": [
       "<matplotlib.axes._subplots.AxesSubplot at 0x11760fb90>"
      ]
     },
     "execution_count": 6,
     "metadata": {},
     "output_type": "execute_result"
    },
    {
     "data": {
      "image/png": "[encoded data removed]",
      "text/plain": [
       "<matplotlib.figure.Figure at 0x103f57f90>"
      ]
     },
     "metadata": {},
     "output_type": "display_data"
    }
   ],
   "source": [
    "#查看train的特征相关性\n",
    "# Load the datset of correlations between cortical brain networks\n",
    "print train.corr()['Survived']\n",
    "\n",
    "corrmat = train.corr()\n",
    "\n",
    "# Set up the matplotlib figure\n",
    "f, ax = plt.subplots(figsize=(12, 9))\n",
    "\n",
    "# Draw the heatmap using seaborn\n",
    "sns.heatmap(corrmat, vmax=.8, square=True)"
   ]
  },
  {
   "cell_type": "markdown",
   "metadata": {},
   "source": [
    " ## 开始特征可视化看看各种特征与survived的关系,做一些分析工作\n",
    " "
   ]
  },
  {
   "cell_type": "markdown",
   "metadata": {},
   "source": [
    " ## survived"
   ]
  },
  {
   "cell_type": "code",
   "execution_count": 7,
   "metadata": {
    "collapsed": false
   },
   "outputs": [
    {
     "data": {
      "text/plain": [
       "0    0.616162\n",
       "1    0.383838\n",
       "Name: Survived, dtype: float64"
      ]
     },
     "execution_count": 7,
     "metadata": {},
     "output_type": "execute_result"
    }
   ],
   "source": [
    "train['Survived'].value_counts(normalize=True)"
   ]
  },
  {
   "cell_type": "code",
   "execution_count": 8,
   "metadata": {
    "collapsed": false
   },
   "outputs": [
    {
     "data": {
      "text/plain": [
       "<matplotlib.axes._subplots.AxesSubplot at 0x117633650>"
      ]
     },
     "execution_count": 8,
     "metadata": {},
     "output_type": "execute_result"
    },
    {
     "data": {
      "image/png": "[encoded data removed]",
      "text/plain": [
       "<matplotlib.figure.Figure at 0x117633990>"
      ]
     },
     "metadata": {},
     "output_type": "display_data"
    }
   ],
   "source": [
    "plt.figure(figsize=(12, 10))\n",
    "sns.countplot(train['Survived'])"
   ]
  },
  {
   "cell_type": "markdown",
   "metadata": {},
   "source": [
    "## Pclass"
   ]
  },
  {
   "cell_type": "markdown",
   "metadata": {},
   "source": [
    "\n"
   ]
  },
  {
   "cell_type": "code",
   "execution_count": 9,
   "metadata": {
    "collapsed": false
   },
   "outputs": [
    {
     "data": {
      "text/plain": [
       "3    491\n",
       "1    216\n",
       "2    184\n",
       "Name: Pclass, dtype: int64"
      ]
     },
     "execution_count": 9,
     "metadata": {},
     "output_type": "execute_result"
    }
   ],
   "source": [
    "train['Pclass'].value_counts()"
   ]
  },
  {
   "cell_type": "code",
   "execution_count": 10,
   "metadata": {
    "collapsed": false
   },
   "outputs": [
    {
     "data": {
      "text/plain": [
       "Pclass\n",
       "1    0.629630\n",
       "2    0.472826\n",
       "3    0.242363\n",
       "Name: Survived, dtype: float64"
      ]
     },
     "execution_count": 10,
     "metadata": {},
     "output_type": "execute_result"
    }
   ],
   "source": [
    "train['Survived'].groupby(train['Pclass']).mean()"
   ]
  },
  {
   "cell_type": "code",
   "execution_count": 11,
   "metadata": {
    "collapsed": false
   },
   "outputs": [
    {
     "data": {
      "text/plain": [
       "<matplotlib.axes._subplots.AxesSubplot at 0x11a8c3b10>"
      ]
     },
     "execution_count": 11,
     "metadata": {},
     "output_type": "execute_result"
    },
    {
     "data": {
      "image/png": "[encoded data removed]",
      "text/plain": [
       "<matplotlib.figure.Figure at 0x11a8cce90>"
      ]
     },
     "metadata": {},
     "output_type": "display_data"
    }
   ],
   "source": [
    "plt.figure(figsize=(12, 10))\n",
    "sns.countplot(train['Pclass'],hue=train['Survived'])"
   ]
  },
  {
   "cell_type": "markdown",
   "metadata": {},
   "source": [
    "## Name"
   ]
  },
  {
   "cell_type": "code",
   "execution_count": 12,
   "metadata": {
    "collapsed": false
   },
   "outputs": [
    {
     "data": {
      "text/plain": [
       "0                              Braund, Mr. Owen Harris\n",
       "1    Cumings, Mrs. John Bradley (Florence Briggs Th...\n",
       "2                               Heikkinen, Miss. Laina\n",
       "3         Futrelle, Mrs. Jacques Heath (Lily May Peel)\n",
       "4                             Allen, Mr. William Henry\n",
       "5                                     Moran, Mr. James\n",
       "6                              McCarthy, Mr. Timothy J\n",
       "7                       Palsson, Master. Gosta Leonard\n",
       "8    Johnson, Mrs. Oscar W (Elisabeth Vilhelmina Berg)\n",
       "9                  Nasser, Mrs. Nicholas (Adele Achem)\n",
       "Name: Name, dtype: object"
      ]
     },
     "execution_count": 12,
     "metadata": {},
     "output_type": "execute_result"
    }
   ],
   "source": [
    "train['Name'].head(10)"
   ]
  },
  {
   "cell_type": "markdown",
   "metadata": {},
   "source": [
    "可以提供有用的信息，一是称号 Mr Miss等等，二是名字的长度"
   ]
  },
  {
   "cell_type": "code",
   "execution_count": 13,
   "metadata": {
    "collapsed": false
   },
   "outputs": [
    {
     "data": {
      "text/plain": [
       " Mr              517\n",
       " Miss            182\n",
       " Mrs             125\n",
       " Master           40\n",
       " Dr                7\n",
       " Rev               6\n",
       " Major             2\n",
       " Col               2\n",
       " Mlle              2\n",
       " Jonkheer          1\n",
       " Ms                1\n",
       " Sir               1\n",
       " Don               1\n",
       " Mme               1\n",
       " Capt              1\n",
       " Lady              1\n",
       " the Countess      1\n",
       "Name: NameTitle, dtype: int64"
      ]
     },
     "execution_count": 13,
     "metadata": {},
     "output_type": "execute_result"
    }
   ],
   "source": [
    "train['NameTitle'] = train['Name'].apply(lambda x: x.split(',')[1].split('.')[0])\n",
    "train['NameTitle'].value_counts()"
   ]
  },
  {
   "cell_type": "code",
   "execution_count": 14,
   "metadata": {
    "collapsed": false
   },
   "outputs": [
    {
     "data": {
      "text/plain": [
       "NameTitle\n",
       " Capt            0.000000\n",
       " Col             0.500000\n",
       " Don             0.000000\n",
       " Dr              0.428571\n",
       " Jonkheer        0.000000\n",
       " Lady            1.000000\n",
       " Major           0.500000\n",
       " Master          0.575000\n",
       " Miss            0.697802\n",
       " Mlle            1.000000\n",
       " Mme             1.000000\n",
       " Mr              0.156673\n",
       " Mrs             0.792000\n",
       " Ms              1.000000\n",
       " Rev             0.000000\n",
       " Sir             1.000000\n",
       " the Countess    1.000000\n",
       "Name: Survived, dtype: float64"
      ]
     },
     "execution_count": 14,
     "metadata": {},
     "output_type": "execute_result"
    },
    {
     "data": {
      "image/png": "[encoded data removed]",
      "text/plain": [
       "<matplotlib.figure.Figure at 0x117735790>"
      ]
     },
     "metadata": {},
     "output_type": "display_data"
    }
   ],
   "source": [
    "plt.figure(figsize=(12, 10))\n",
    "sns.countplot(train['NameTitle'],hue=train['Survived'])\n",
    "train['Survived'].groupby(train['NameTitle']).mean()"
   ]
  },
  {
   "cell_type": "code",
   "execution_count": 15,
   "metadata": {
    "collapsed": false
   },
   "outputs": [
    {
     "name": "stderr",
     "output_type": "stream",
     "text": [
      "/Users/wakemeup/anaconda/lib/python2.7/site-packages/ipykernel/__main__.py:2: SettingWithCopyWarning: \n",
      "A value is trying to be set on a copy of a slice from a DataFrame\n",
      "\n",
      "See the caveats in the documentation: http://pandas.pydata.org/pandas-docs/stable/indexing.html#indexing-view-versus-copy\n",
      "  from ipykernel import kernelapp as app\n"
     ]
    },
    {
     "data": {
      "text/plain": [
       " Mr          517\n",
       " Miss        182\n",
       " Mrs         125\n",
       " Master       40\n",
       "RareTitle     14\n",
       " Dr            7\n",
       " Rev           6\n",
       "Name: NameTitle, dtype: int64"
      ]
     },
     "execution_count": 15,
     "metadata": {},
     "output_type": "execute_result"
    }
   ],
   "source": [
    "rare_title_index =  train['NameTitle'].value_counts()[train['NameTitle'].value_counts()<=5].index\n",
    "train['NameTitle'][train['NameTitle'].isin( rare_title_index )] = 'RareTitle'\n",
    "train['NameTitle'].value_counts()"
   ]
  },
  {
   "cell_type": "code",
   "execution_count": 16,
   "metadata": {
    "collapsed": false
   },
   "outputs": [
    {
     "data": {
      "text/plain": [
       "NameTitle\n",
       " Dr          0.428571\n",
       " Master      0.575000\n",
       " Miss        0.697802\n",
       " Mr          0.156673\n",
       " Mrs         0.792000\n",
       " Rev         0.000000\n",
       "RareTitle    0.642857\n",
       "Name: Survived, dtype: float64"
      ]
     },
     "execution_count": 16,
     "metadata": {},
     "output_type": "execute_result"
    },
    {
     "data": {
      "image/png": "[encoded data removed]",
      "text/plain": [
       "<matplotlib.figure.Figure at 0x11aebee50>"
      ]
     },
     "metadata": {},
     "output_type": "display_data"
    }
   ],
   "source": [
    "plt.figure(figsize=(12, 10))\n",
    "sns.countplot(train['NameTitle'],hue=train['Survived'])\n",
    "train['Survived'].groupby(train['NameTitle']).mean()"
   ]
  },
  {
   "cell_type": "code",
   "execution_count": 17,
   "metadata": {
    "collapsed": false
   },
   "outputs": [
    {
     "data": {
      "text/plain": [
       "19    64\n",
       "25    55\n",
       "27    50\n",
       "18    50\n",
       "26    49\n",
       "28    43\n",
       "24    43\n",
       "17    42\n",
       "21    40\n",
       "23    39\n",
       "20    39\n",
       "22    38\n",
       "30    37\n",
       "29    32\n",
       "31    30\n",
       "16    26\n",
       "32    23\n",
       "33    22\n",
       "15    15\n",
       "47    11\n",
       "37    10\n",
       "38     9\n",
       "36     9\n",
       "39     9\n",
       "45     9\n",
       "44     8\n",
       "41     8\n",
       "34     7\n",
       "46     7\n",
       "40     7\n",
       "51     7\n",
       "35     6\n",
       "43     5\n",
       "42     5\n",
       "49     5\n",
       "50     4\n",
       "52     4\n",
       "56     3\n",
       "14     3\n",
       "48     3\n",
       "13     2\n",
       "12     2\n",
       "53     2\n",
       "55     2\n",
       "57     2\n",
       "67     1\n",
       "54     1\n",
       "61     1\n",
       "65     1\n",
       "82     1\n",
       "Name: NameLength, dtype: int64"
      ]
     },
     "execution_count": 17,
     "metadata": {},
     "output_type": "execute_result"
    }
   ],
   "source": [
    "train['NameLength'] = train['Name'].apply(lambda x: len(x))\n",
    "train['NameLength'].value_counts()"
   ]
  },
  {
   "cell_type": "code",
   "execution_count": 18,
   "metadata": {
    "collapsed": false
   },
   "outputs": [
    {
     "name": "stdout",
     "output_type": "stream",
     "text": [
      "NameLength\n",
      "[12, 19]    0.220588\n",
      "(19, 23]    0.301282\n",
      "(23, 27]    0.319797\n",
      "(27, 32]    0.442424\n",
      "(32, 82]    0.674556\n",
      "Name: Survived, dtype: float64\n",
      "0.332349534423\n"
     ]
    }
   ],
   "source": [
    "print train['Survived'].groupby(pd.qcut(train['NameLength'],5)).mean()\n",
    "print train['Survived'].corr(train['NameLength'])"
   ]
  },
  {
   "cell_type": "code",
   "execution_count": 19,
   "metadata": {
    "collapsed": false
   },
   "outputs": [
    {
     "data": {
      "text/plain": [
       "<matplotlib.axes._subplots.AxesSubplot at 0x11a94fe10>"
      ]
     },
     "execution_count": 19,
     "metadata": {},
     "output_type": "execute_result"
    },
    {
     "data": {
      "image/png": "[encoded data removed]",
      "text/plain": [
       "<matplotlib.figure.Figure at 0x11aebead0>"
      ]
     },
     "metadata": {},
     "output_type": "display_data"
    }
   ],
   "source": [
    "plt.figure(figsize=(12, 10))\n",
    "sns.countplot(train['NameLength'],hue=train['Survived'])"
   ]
  },
  {
   "cell_type": "markdown",
   "metadata": {},
   "source": [
    "## Sex"
   ]
  },
  {
   "cell_type": "code",
   "execution_count": 20,
   "metadata": {
    "collapsed": false
   },
   "outputs": [
    {
     "data": {
      "text/plain": [
       "<matplotlib.axes._subplots.AxesSubplot at 0x11ac568d0>"
      ]
     },
     "execution_count": 20,
     "metadata": {},
     "output_type": "execute_result"
    },
    {
     "data": {
      "image/png": "[encoded data removed]",
      "text/plain": [
       "<matplotlib.figure.Figure at 0x11b514350>"
      ]
     },
     "metadata": {},
     "output_type": "display_data"
    }
   ],
   "source": [
    "plt.figure(figsize=(12, 10))\n",
    "sns.countplot(train['Sex'],hue=train['Survived'])"
   ]
  },
  {
   "cell_type": "markdown",
   "metadata": {},
   "source": [
    "## Age\n",
    "There are 177 nulls for Age, and they have a 10% lower survival rate than the non-nulls. Before imputing values for the nulls, we will include an Age_null flag just to make sure we can account for this characteristic of the data.\n",
    "\n",
    "先处理 age 是否为 null"
   ]
  },
  {
   "cell_type": "code",
   "execution_count": 21,
   "metadata": {
    "collapsed": false
   },
   "outputs": [
    {
     "data": {
      "text/plain": [
       "Age\n",
       "False    0.406162\n",
       "True     0.293785\n",
       "Name: Survived, dtype: float64"
      ]
     },
     "execution_count": 21,
     "metadata": {},
     "output_type": "execute_result"
    }
   ],
   "source": [
    "train['Survived'].groupby(train['Age'].isnull()).mean()\n"
   ]
  },
  {
   "cell_type": "code",
   "execution_count": 22,
   "metadata": {
    "collapsed": false
   },
   "outputs": [
    {
     "data": {
      "text/plain": [
       "Age\n",
       "[0.42, 14]    0.584416\n",
       "(14, 19]      0.390805\n",
       "(19, 22]      0.283582\n",
       "(22, 25]      0.371429\n",
       "(25, 28]      0.393443\n",
       "(28, 31.8]    0.393939\n",
       "(31.8, 36]    0.483516\n",
       "(36, 41]      0.358491\n",
       "(41, 50]      0.397436\n",
       "(50, 80]      0.343750\n",
       "Name: Survived, dtype: float64"
      ]
     },
     "execution_count": 22,
     "metadata": {},
     "output_type": "execute_result"
    }
   ],
   "source": [
    "train['Survived'].groupby(pd.qcut(train['Age'],10)).mean()"
   ]
  },
  {
   "cell_type": "code",
   "execution_count": 23,
   "metadata": {
    "collapsed": false
   },
   "outputs": [
    {
     "data": {
      "text/plain": [
       "(31.8, 36]    91\n",
       "(14, 19]      87\n",
       "(41, 50]      78\n",
       "[0.42, 14]    77\n",
       "(22, 25]      70\n",
       "(19, 22]      67\n",
       "(28, 31.8]    66\n",
       "(50, 80]      64\n",
       "(25, 28]      61\n",
       "(36, 41]      53\n",
       "Name: Age, dtype: int64"
      ]
     },
     "execution_count": 23,
     "metadata": {},
     "output_type": "execute_result"
    }
   ],
   "source": [
    "pd.qcut(train['Age'],10).value_counts()"
   ]
  },
  {
   "cell_type": "markdown",
   "metadata": {},
   "source": [
    "## SibSp "
   ]
  },
  {
   "cell_type": "code",
   "execution_count": 24,
   "metadata": {
    "collapsed": false
   },
   "outputs": [
    {
     "name": "stdout",
     "output_type": "stream",
     "text": [
      "0    608\n",
      "1    209\n",
      "2     28\n",
      "4     18\n",
      "3     16\n",
      "8      7\n",
      "5      5\n",
      "Name: SibSp, dtype: int64\n"
     ]
    },
    {
     "data": {
      "text/plain": [
       "<matplotlib.axes._subplots.AxesSubplot at 0x11b4b1950>"
      ]
     },
     "execution_count": 24,
     "metadata": {},
     "output_type": "execute_result"
    },
    {
     "data": {
      "image/png": "[encoded data removed]",
      "text/plain": [
       "<matplotlib.figure.Figure at 0x11b947710>"
      ]
     },
     "metadata": {},
     "output_type": "display_data"
    }
   ],
   "source": [
    "plt.figure(figsize=(12, 10))\n",
    "print train['SibSp'].value_counts()\n",
    "sns.countplot(train['SibSp'],hue=train['Survived'])"
   ]
  },
  {
   "cell_type": "markdown",
   "metadata": {},
   "source": [
    "## Parch"
   ]
  },
  {
   "cell_type": "code",
   "execution_count": 25,
   "metadata": {
    "collapsed": false
   },
   "outputs": [
    {
     "name": "stdout",
     "output_type": "stream",
     "text": [
      "0    678\n",
      "1    118\n",
      "2     80\n",
      "5      5\n",
      "3      5\n",
      "4      4\n",
      "6      1\n",
      "Name: Parch, dtype: int64\n"
     ]
    },
    {
     "data": {
      "text/plain": [
       "<matplotlib.axes._subplots.AxesSubplot at 0x11aebe510>"
      ]
     },
     "execution_count": 25,
     "metadata": {},
     "output_type": "execute_result"
    },
    {
     "data": {
      "image/png": "[encoded data removed]",
      "text/plain": [
       "<matplotlib.figure.Figure at 0x11bf80d50>"
      ]
     },
     "metadata": {},
     "output_type": "display_data"
    }
   ],
   "source": [
    "plt.figure(figsize=(12, 10))\n",
    "print train['Parch'].value_counts()\n",
    "sns.countplot(train['Parch'],hue=train['Survived'])"
   ]
  },
  {
   "cell_type": "code",
   "execution_count": 26,
   "metadata": {
    "collapsed": false
   },
   "outputs": [
    {
     "name": "stdout",
     "output_type": "stream",
     "text": [
      "0     537\n",
      "1     161\n",
      "2     102\n",
      "3      29\n",
      "5      22\n",
      "4      15\n",
      "6      12\n",
      "10      7\n",
      "7       6\n",
      "Name: FamSize, dtype: int64\n"
     ]
    },
    {
     "data": {
      "text/plain": [
       "<matplotlib.axes._subplots.AxesSubplot at 0x11b5f4550>"
      ]
     },
     "execution_count": 26,
     "metadata": {},
     "output_type": "execute_result"
    },
    {
     "data": {
      "image/png": "[encoded data removed]",
      "text/plain": [
       "<matplotlib.figure.Figure at 0x11b947390>"
      ]
     },
     "metadata": {},
     "output_type": "display_data"
    }
   ],
   "source": [
    "#看看 FamSize\n",
    "train['FamSize'] = train['SibSp'] + train['Parch']\n",
    "print train['FamSize'].value_counts()\n",
    "plt.figure(figsize=(12,10))\n",
    "sns.countplot(train['FamSize'],hue=train['Survived'])\n"
   ]
  },
  {
   "cell_type": "markdown",
   "metadata": {},
   "source": [
    "## Ticket 可建立新特征如长度 字母等等"
   ]
  },
  {
   "cell_type": "code",
   "execution_count": 27,
   "metadata": {
    "collapsed": false
   },
   "outputs": [
    {
     "name": "stdout",
     "output_type": "stream",
     "text": [
      "0           A/5 21171\n",
      "1            PC 17599\n",
      "2    STON/O2. 3101282\n",
      "3              113803\n",
      "4              373450\n",
      "5              330877\n",
      "6               17463\n",
      "7              349909\n",
      "8              347742\n",
      "9              237736\n",
      "Name: Ticket, dtype: object\n"
     ]
    }
   ],
   "source": [
    "print train['Ticket'].head(10)\n"
   ]
  },
  {
   "cell_type": "code",
   "execution_count": 28,
   "metadata": {
    "collapsed": false
   },
   "outputs": [
    {
     "name": "stdout",
     "output_type": "stream",
     "text": [
      "6     419\n",
      "5     131\n",
      "4     101\n",
      "8      76\n",
      "10     41\n",
      "7      27\n",
      "9      26\n",
      "17     14\n",
      "16     11\n",
      "13     10\n",
      "12     10\n",
      "15      9\n",
      "11      8\n",
      "18      6\n",
      "3       2\n",
      "Name: TicketLength, dtype: int64\n",
      "TicketLength\n",
      "3     0.000000\n",
      "4     0.366337\n",
      "5     0.618321\n",
      "6     0.319809\n",
      "7     0.296296\n",
      "8     0.539474\n",
      "9     0.192308\n",
      "10    0.341463\n",
      "11    0.250000\n",
      "12    0.400000\n",
      "13    0.400000\n",
      "15    0.333333\n",
      "16    0.272727\n",
      "17    0.428571\n",
      "18    0.000000\n",
      "Name: Survived, dtype: float64\n"
     ]
    },
    {
     "data": {
      "text/plain": [
       "<matplotlib.axes._subplots.AxesSubplot at 0x11ca18b50>"
      ]
     },
     "execution_count": 28,
     "metadata": {},
     "output_type": "execute_result"
    },
    {
     "data": {
      "image/png": "[encoded data removed]",
      "text/plain": [
       "<matplotlib.figure.Figure at 0x11ae34050>"
      ]
     },
     "metadata": {},
     "output_type": "display_data"
    }
   ],
   "source": [
    "train['TicketLength'] = train['Ticket'].apply(lambda x:len(x))\n",
    "print train['TicketLength'].value_counts()\n",
    "print train['Survived'].groupby(train['TicketLength']).mean()\n",
    "plt.figure(figsize=(12, 10))\n",
    "sns.countplot(train['TicketLength'],hue=train['Survived'])"
   ]
  },
  {
   "cell_type": "code",
   "execution_count": 29,
   "metadata": {
    "collapsed": false
   },
   "outputs": [
    {
     "name": "stdout",
     "output_type": "stream",
     "text": [
      "3    301\n",
      "2    183\n",
      "1    146\n",
      "S     65\n",
      "P     65\n",
      "C     47\n",
      "A     29\n",
      "W     13\n",
      "4     10\n",
      "7      9\n",
      "F      7\n",
      "6      6\n",
      "L      4\n",
      "5      3\n",
      "8      2\n",
      "9      1\n",
      "Name: TicketLetter, dtype: int64\n",
      "TicketLetter\n",
      "1    0.630137\n",
      "2    0.464481\n",
      "3    0.239203\n",
      "4    0.200000\n",
      "5    0.000000\n",
      "6    0.166667\n",
      "7    0.111111\n",
      "8    0.000000\n",
      "9    1.000000\n",
      "A    0.068966\n",
      "C    0.340426\n",
      "F    0.571429\n",
      "L    0.250000\n",
      "P    0.646154\n",
      "S    0.323077\n",
      "W    0.153846\n",
      "Name: Survived, dtype: float64\n"
     ]
    },
    {
     "data": {
      "image/png": "[encoded data removed]",
      "text/plain": [
       "<matplotlib.figure.Figure at 0x11b2f34d0>"
      ]
     },
     "metadata": {},
     "output_type": "display_data"
    },
    {
     "data": {
      "text/plain": [
       "<matplotlib.figure.Figure at 0x11b954650>"
      ]
     },
     "metadata": {},
     "output_type": "display_data"
    },
    {
     "data": {
      "image/png": "[encoded data removed]",
      "text/plain": [
       "<matplotlib.figure.Figure at 0x11d052290>"
      ]
     },
     "metadata": {},
     "output_type": "display_data"
    }
   ],
   "source": [
    "#feature for the first letter of ticket\n",
    "train['TicketLetter'] = train['Ticket'].apply(lambda x:x[0])\n",
    "print train['TicketLetter'].value_counts()\n",
    "print train['Survived'].groupby(train['TicketLetter']).mean()\n",
    "plt.figure(figsize=(12,10))\n",
    "sns.countplot(train['TicketLetter'],hue = train['Survived'])\n",
    "def plot_categories( df , cat , target , **kwargs ):\n",
    "    row = kwargs.get( 'row' , None )\n",
    "    col = kwargs.get( 'col' , None )\n",
    "    facet = sns.FacetGrid( df , row = row , col = col )\n",
    "    facet.map( sns.barplot , cat , target )\n",
    "    facet.add_legend()\n",
    "plt.figure(figsize=(12,10))\n",
    "plot_categories( train , cat = 'TicketLetter' , target = 'Survived' )"
   ]
  },
  {
   "cell_type": "code",
   "execution_count": 30,
   "metadata": {
    "collapsed": false
   },
   "outputs": [
    {
     "name": "stdout",
     "output_type": "stream",
     "text": [
      "ticket_letter_rare_high= ['F', '9']\n",
      "ticket_letter_rare_low= ['W', '4', '7', '6', 'L', '5', '8']\n",
      "3           301\n",
      "2           183\n",
      "1           146\n",
      "S            65\n",
      "P            65\n",
      "RareLow      47\n",
      "C            47\n",
      "A            29\n",
      "RareHigh      8\n",
      "Name: TicketLetter, dtype: int64 \n",
      "\n",
      "TicketLetter\n",
      "1           0.630137\n",
      "2           0.464481\n",
      "3           0.239203\n",
      "A           0.068966\n",
      "C           0.340426\n",
      "P           0.646154\n",
      "RareHigh    0.625000\n",
      "RareLow     0.148936\n",
      "S           0.323077\n",
      "Name: Survived, dtype: float64\n"
     ]
    },
    {
     "name": "stderr",
     "output_type": "stream",
     "text": [
      "/Users/wakemeup/anaconda/lib/python2.7/site-packages/ipykernel/__main__.py:8: SettingWithCopyWarning: \n",
      "A value is trying to be set on a copy of a slice from a DataFrame\n",
      "\n",
      "See the caveats in the documentation: http://pandas.pydata.org/pandas-docs/stable/indexing.html#indexing-view-versus-copy\n",
      "/Users/wakemeup/anaconda/lib/python2.7/site-packages/ipykernel/__main__.py:9: SettingWithCopyWarning: \n",
      "A value is trying to be set on a copy of a slice from a DataFrame\n",
      "\n",
      "See the caveats in the documentation: http://pandas.pydata.org/pandas-docs/stable/indexing.html#indexing-view-versus-copy\n"
     ]
    }
   ],
   "source": [
    "ticket_letter_rare = train['TicketLetter'].value_counts()[train['TicketLetter'].value_counts() <20 ].index\n",
    "ticket_letter_survived_rate = train['Survived'].groupby(train['TicketLetter']).mean()\n",
    "#print type(ticket_letter_survived_rate)\n",
    "ticket_letter_rare_high =[ letter for letter in ticket_letter_rare  if ticket_letter_survived_rate[letter]>=0.5 ]\n",
    "ticket_letter_rare_low = [ letter for letter in ticket_letter_rare  if ticket_letter_survived_rate[letter]<0.5 ]\n",
    "print 'ticket_letter_rare_high=', ticket_letter_rare_high\n",
    "print 'ticket_letter_rare_low=',ticket_letter_rare_low\n",
    "train['TicketLetter'][train['TicketLetter'].isin( ticket_letter_rare_high)] = 'RareHigh'\n",
    "train['TicketLetter'][train['TicketLetter'].isin( ticket_letter_rare_low)] = 'RareLow'\n",
    "print train['TicketLetter'].value_counts(),'\\n'\n",
    "print train['Survived'].groupby(train['TicketLetter']).mean()\n"
   ]
  },
  {
   "cell_type": "code",
   "execution_count": 31,
   "metadata": {
    "collapsed": false
   },
   "outputs": [
    {
     "name": "stdout",
     "output_type": "stream",
     "text": [
      "(7.854, 10.5]        184\n",
      "(21.679, 39.688]     180\n",
      "[0, 7.854]           179\n",
      "(39.688, 512.329]    176\n",
      "(10.5, 21.679]       172\n",
      "Name: Fare, dtype: int64\n",
      "Fare\n",
      "[0, 7.854]           0.217877\n",
      "(7.854, 10.5]        0.201087\n",
      "(10.5, 21.679]       0.424419\n",
      "(21.679, 39.688]     0.444444\n",
      "(39.688, 512.329]    0.642045\n",
      "Name: Survived, dtype: float64\n"
     ]
    }
   ],
   "source": [
    "print pd.qcut(train['Fare'],5).value_counts()\n",
    "print train['Survived'].groupby(pd.qcut(train['Fare'],5)).mean()"
   ]
  },
  {
   "cell_type": "markdown",
   "metadata": {},
   "source": [
    "## Fare"
   ]
  },
  {
   "cell_type": "code",
   "execution_count": 32,
   "metadata": {
    "collapsed": false
   },
   "outputs": [
    {
     "name": "stdout",
     "output_type": "stream",
     "text": [
      "Fare\n",
      "[0, 7.75]            0.207143\n",
      "(7.75, 7.91]         0.180723\n",
      "(7.91, 9.841]        0.198198\n",
      "(9.841, 14.454]      0.407080\n",
      "(14.454, 24.479]     0.436364\n",
      "(24.479, 31]         0.473214\n",
      "(31, 69.487]         0.481818\n",
      "(69.487, 512.329]    0.678571\n",
      "Name: Survived, dtype: float64\n"
     ]
    },
    {
     "data": {
      "text/plain": [
       "<matplotlib.axes._subplots.AxesSubplot at 0x11a923350>"
      ]
     },
     "execution_count": 32,
     "metadata": {},
     "output_type": "execute_result"
    },
    {
     "data": {
      "image/png": "[encoded data removed]",
      "text/plain": [
       "<matplotlib.figure.Figure at 0x11afbb0d0>"
      ]
     },
     "metadata": {},
     "output_type": "display_data"
    }
   ],
   "source": [
    "print train['Survived'].groupby(pd.qcut(train['Fare'],8)).mean()\n",
    "plt.figure(figsize=(12,5))\n",
    "train['Survived'].groupby(pd.qcut(train['Fare'],8)).mean().plot()\n",
    "#sns.countplo(train['Survived'].groupby(pd.qcut(train['Fare'],8)).mean())"
   ]
  },
  {
   "cell_type": "markdown",
   "metadata": {},
   "source": [
    "## Cabin 大部分为 null 比较复杂"
   ]
  },
  {
   "cell_type": "code",
   "execution_count": 33,
   "metadata": {
    "collapsed": false
   },
   "outputs": [
    {
     "name": "stdout",
     "output_type": "stream",
     "text": [
      "有数据的： 204  没数据的： 687\n"
     ]
    },
    {
     "data": {
      "text/plain": [
       "0             NaN\n",
       "1             C85\n",
       "2             NaN\n",
       "3            C123\n",
       "4             NaN\n",
       "5             NaN\n",
       "6             E46\n",
       "7             NaN\n",
       "8             NaN\n",
       "9             NaN\n",
       "10             G6\n",
       "11           C103\n",
       "12            NaN\n",
       "13            NaN\n",
       "14            NaN\n",
       "15            NaN\n",
       "16            NaN\n",
       "17            NaN\n",
       "18            NaN\n",
       "19            NaN\n",
       "20            NaN\n",
       "21            D56\n",
       "22            NaN\n",
       "23             A6\n",
       "24            NaN\n",
       "25            NaN\n",
       "26            NaN\n",
       "27    C23 C25 C27\n",
       "28            NaN\n",
       "29            NaN\n",
       "Name: Cabin, dtype: object"
      ]
     },
     "execution_count": 33,
     "metadata": {},
     "output_type": "execute_result"
    }
   ],
   "source": [
    "print '有数据的：', train['Cabin'].count(),' 没数据的：',train.shape[0]- train['Cabin'].count()\n",
    "train['Cabin'].head(30)"
   ]
  },
  {
   "cell_type": "code",
   "execution_count": 34,
   "metadata": {
    "collapsed": false
   },
   "outputs": [
    {
     "data": {
      "text/plain": [
       "Cabin\n",
       "False    0.666667\n",
       "True     0.299854\n",
       "Name: Survived, dtype: float64"
      ]
     },
     "execution_count": 34,
     "metadata": {},
     "output_type": "execute_result"
    }
   ],
   "source": [
    "train['Survived'].groupby(train['Cabin'].isnull()).mean()"
   ]
  },
  {
   "cell_type": "code",
   "execution_count": 35,
   "metadata": {
    "collapsed": false
   },
   "outputs": [
    {
     "name": "stdout",
     "output_type": "stream",
     "text": [
      "NaN    687\n",
      "C       59\n",
      "B       47\n",
      "D       33\n",
      "E       32\n",
      "A       15\n",
      "F       13\n",
      "G        4\n",
      "T        1\n",
      "Name: Cabin_Letter, dtype: int64\n",
      "Cabin_Letter\n",
      "A      0.466667\n",
      "B      0.744681\n",
      "C      0.593220\n",
      "D      0.757576\n",
      "E      0.750000\n",
      "F      0.615385\n",
      "G      0.500000\n",
      "NaN    0.299854\n",
      "T      0.000000\n",
      "Name: Survived, dtype: float64\n"
     ]
    }
   ],
   "source": [
    "train['Cabin_Letter'] = train['Cabin'].apply(lambda x: str(x)[0])\n",
    "train['Cabin_Letter'] = train['Cabin_Letter'].apply(lambda x: 'NaN' if x=='n' else x)\n",
    "print train['Cabin_Letter'].value_counts()\n",
    "print train['Survived'].groupby(train['Cabin_Letter']).mean()"
   ]
  },
  {
   "cell_type": "code",
   "execution_count": 36,
   "metadata": {
    "collapsed": false
   },
   "outputs": [
    {
     "data": {
      "text/plain": [
       "<matplotlib.axes._subplots.AxesSubplot at 0x11b349e50>"
      ]
     },
     "execution_count": 36,
     "metadata": {},
     "output_type": "execute_result"
    },
    {
     "data": {
      "image/png": "[encoded data removed]",
      "text/plain": [
       "<matplotlib.figure.Figure at 0x11afce8d0>"
      ]
     },
     "metadata": {},
     "output_type": "display_data"
    }
   ],
   "source": [
    "plt.figure(figsize=(12, 10))\n",
    "sns.countplot(train['Cabin_Letter'],hue= train['Survived'])"
   ]
  },
  {
   "cell_type": "code",
   "execution_count": 37,
   "metadata": {
    "collapsed": false
   },
   "outputs": [
    {
     "name": "stdout",
     "output_type": "stream",
     "text": [
      "0     an\n",
      "1     85\n",
      "2     an\n",
      "3    123\n",
      "4     an\n",
      "Name: CabinNum, dtype: object\n"
     ]
    },
    {
     "data": {
      "text/plain": [
       "33.0     7\n",
       "6.0      6\n",
       "2.0      5\n",
       "22.0     5\n",
       "49.0     5\n",
       "101.0    5\n",
       "23.0     5\n",
       "20.0     5\n",
       "50.0     4\n",
       "96.0     4\n",
       "35.0     4\n",
       "36.0     4\n",
       "38.0     3\n",
       "28.0     3\n",
       "78.0     3\n",
       "77.0     3\n",
       "46.0     3\n",
       "68.0     3\n",
       "58.0     3\n",
       "30.0     3\n",
       "26.0     3\n",
       "19.0     3\n",
       "4.0      3\n",
       "5.0      3\n",
       "7.0      3\n",
       "10.0     3\n",
       "17.0     3\n",
       "24.0     3\n",
       "37.0     2\n",
       "18.0     2\n",
       "        ..\n",
       "99.0     1\n",
       "12.0     1\n",
       "11.0     1\n",
       "118.0    1\n",
       "9.0      1\n",
       "3.0      1\n",
       "102.0    1\n",
       "62.0     1\n",
       "95.0     1\n",
       "94.0     1\n",
       "56.0     1\n",
       "54.0     1\n",
       "128.0    1\n",
       "69.0     1\n",
       "48.0     1\n",
       "70.0     1\n",
       "71.0     1\n",
       "73.0     1\n",
       "79.0     1\n",
       "42.0     1\n",
       "41.0     1\n",
       "40.0     1\n",
       "39.0     1\n",
       "80.0     1\n",
       "85.0     1\n",
       "87.0     1\n",
       "90.0     1\n",
       "91.0     1\n",
       "63.0     1\n",
       "148.0    1\n",
       "Name: CabinNum, dtype: int64"
      ]
     },
     "execution_count": 37,
     "metadata": {},
     "output_type": "execute_result"
    }
   ],
   "source": [
    "train['CabinNum']=train['Cabin'].apply(lambda x: str(x).split(' ')[0][1:])\n",
    "print train['CabinNum'].head()\n",
    "train['CabinNum'].replace('an',np.NaN,inplace=True)\n",
    "train['CabinNum']=train['CabinNum'].apply(lambda x:int(x) if pd.notnull(x) and x != '' else np.NaN ) #进行数字化\n",
    "# 在数字里 np.NaN 是不计入 value count的\n",
    "train['CabinNum'].value_counts()"
   ]
  },
  {
   "cell_type": "code",
   "execution_count": 38,
   "metadata": {
    "collapsed": false
   },
   "outputs": [
    {
     "name": "stdout",
     "output_type": "stream",
     "text": [
      "(24.5, 33]    22\n",
      "(40.5, 50]    21\n",
      "[2, 7]        21\n",
      "(50, 68]      20\n",
      "(101, 148]    19\n",
      "(86, 101]     19\n",
      "(68, 86]      19\n",
      "(19, 24.5]    19\n",
      "(7, 19]       19\n",
      "(33, 40.5]    17\n",
      "Name: CabinNum, dtype: int64\n",
      "CabinNum\n",
      "[2, 7]        0.666667\n",
      "(7, 19]       0.789474\n",
      "(19, 24.5]    0.684211\n",
      "(24.5, 33]    0.681818\n",
      "(33, 40.5]    0.705882\n",
      "(40.5, 50]    0.666667\n",
      "(50, 68]      0.650000\n",
      "(68, 86]      0.578947\n",
      "(86, 101]     0.789474\n",
      "(101, 148]    0.578947\n",
      "Name: Survived, dtype: float64\n",
      "-0.0548685008712\n"
     ]
    }
   ],
   "source": [
    "print pd.qcut(train['CabinNum'],10).value_counts()\n",
    "print train['Survived'].groupby(pd.qcut(train['CabinNum'],10)).mean()\n",
    "print train['Survived'].corr(train['CabinNum'])"
   ]
  },
  {
   "cell_type": "code",
   "execution_count": 39,
   "metadata": {
    "collapsed": false
   },
   "outputs": [
    {
     "data": {
      "text/plain": [
       "\"\\ntest['CabinNum']=test['Cabin'].apply(lambda x: str(x).split(' ')[0][1:])\\n\\ntest['CabinNum'].replace('an',np.NaN,inplace=True)\\ntest['CabinNum']=test['CabinNum'].apply(lambda x:int(x) if pd.notnull(x) and x != '' else np.NaN ) #\\xe8\\xbf\\x9b\\xe8\\xa1\\x8c\\xe6\\x95\\xb0\\xe5\\xad\\x97\\xe5\\x8c\\x96\\na,bins = pd.qcut(train['CabinNum'],3,retbins=True)\\nprint 'a=', a\\nprint 'bins=',bins\\nprint pd.cut(test['CabinNum'],bins=bins)\\nprint train['CabinNum'].head()\\nprint test['CabinNum'].head()\\n\""
      ]
     },
     "execution_count": 39,
     "metadata": {},
     "output_type": "execute_result"
    }
   ],
   "source": [
    "\"\"\"\n",
    "test['CabinNum']=test['Cabin'].apply(lambda x: str(x).split(' ')[0][1:])\n",
    "\n",
    "test['CabinNum'].replace('an',np.NaN,inplace=True)\n",
    "test['CabinNum']=test['CabinNum'].apply(lambda x:int(x) if pd.notnull(x) and x != '' else np.NaN ) #进行数字化\n",
    "a,bins = pd.qcut(train['CabinNum'],3,retbins=True)\n",
    "print 'a=', a\n",
    "print 'bins=',bins\n",
    "print pd.cut(test['CabinNum'],bins=bins)\n",
    "print train['CabinNum'].head()\n",
    "print test['CabinNum'].head()\n",
    "\"\"\"\n"
   ]
  },
  {
   "cell_type": "code",
   "execution_count": 40,
   "metadata": {
    "collapsed": false
   },
   "outputs": [],
   "source": [
    "#train = pd.concat((train,pd.get_dummies(train['CabinNum'],prefix='CabinNum')),axis=1)\n",
    "#train.head()"
   ]
  },
  {
   "cell_type": "markdown",
   "metadata": {},
   "source": [
    "## Embarked"
   ]
  },
  {
   "cell_type": "code",
   "execution_count": 41,
   "metadata": {
    "collapsed": false
   },
   "outputs": [
    {
     "name": "stdout",
     "output_type": "stream",
     "text": [
      "S    644\n",
      "C    168\n",
      "Q     77\n",
      "Name: Embarked, dtype: int64\n",
      "Embarked\n",
      "C    0.553571\n",
      "Q    0.389610\n",
      "S    0.336957\n",
      "Name: Survived, dtype: float64\n",
      "889\n",
      "891\n",
      "S       644\n",
      "C       168\n",
      "Q        77\n",
      "NULL      2\n",
      "Name: Embarked, dtype: int64\n"
     ]
    },
    {
     "data": {
      "text/plain": [
       "<matplotlib.axes._subplots.AxesSubplot at 0x11a8ec910>"
      ]
     },
     "execution_count": 41,
     "metadata": {},
     "output_type": "execute_result"
    },
    {
     "data": {
      "image/png": "[encoded data removed]",
      "text/plain": [
       "<matplotlib.figure.Figure at 0x11af96f90>"
      ]
     },
     "metadata": {},
     "output_type": "display_data"
    }
   ],
   "source": [
    "print train['Embarked'].value_counts()\n",
    "print train['Survived'].groupby(train['Embarked']).mean()\n",
    "print train['Embarked'].count()\n",
    "\n",
    "train['Embarked'].fillna('NULL',inplace=True)\n",
    "print train['Embarked'].count()\n",
    "print train['Embarked'].value_counts()\n",
    "plt.figure(figsize=(12,10))\n",
    "sns.countplot(train['Embarked'],hue = train['Survived'])"
   ]
  },
  {
   "cell_type": "markdown",
   "metadata": {},
   "source": [
    "# Feature Enginneering \n",
    "## 主要任务：\n",
    "* 同时对训练集和测试集处理\n",
    "* 对于缺失数据如年龄，先立flag，再以mean补全，or np.NaN?\n",
    "* 对离散变量做dummy （one-hot）,稀有的合并分类\n",
    "* 对连续变量做 qcut 分成几块??\n",
    "* 这里对于大量离散变量的特征（但是有的值出现次数很少）的处理是，把这些出现次数多的做dummy，对于这些出现次数少的特征依据对应的存活率做二分类（high／low）\n"
   ]
  },
  {
   "cell_type": "code",
   "execution_count": 42,
   "metadata": {
    "collapsed": false
   },
   "outputs": [
    {
     "data": {
      "text/html": [
       "<div>\n",
       "<table border=\"1\" class=\"dataframe\">\n",
       "  <thead>\n",
       "    <tr style=\"text-align: right;\">\n",
       "      <th></th>\n",
       "      <th>PassengerId</th>\n",
       "      <th>Survived</th>\n",
       "      <th>Pclass</th>\n",
       "      <th>Name</th>\n",
       "      <th>Sex</th>\n",
       "      <th>Age</th>\n",
       "      <th>SibSp</th>\n",
       "      <th>Parch</th>\n",
       "      <th>Ticket</th>\n",
       "      <th>Fare</th>\n",
       "      <th>Cabin</th>\n",
       "      <th>Embarked</th>\n",
       "      <th>NameTitle</th>\n",
       "      <th>NameLength</th>\n",
       "      <th>FamSize</th>\n",
       "      <th>TicketLength</th>\n",
       "      <th>TicketLetter</th>\n",
       "      <th>Cabin_Letter</th>\n",
       "      <th>CabinNum</th>\n",
       "    </tr>\n",
       "  </thead>\n",
       "  <tbody>\n",
       "    <tr>\n",
       "      <th>0</th>\n",
       "      <td>1</td>\n",
       "      <td>0</td>\n",
       "      <td>3</td>\n",
       "      <td>Braund, Mr. Owen Harris</td>\n",
       "      <td>male</td>\n",
       "      <td>22.0</td>\n",
       "      <td>1</td>\n",
       "      <td>0</td>\n",
       "      <td>A/5 21171</td>\n",
       "      <td>7.2500</td>\n",
       "      <td>NaN</td>\n",
       "      <td>S</td>\n",
       "      <td>Mr</td>\n",
       "      <td>23</td>\n",
       "      <td>1</td>\n",
       "      <td>9</td>\n",
       "      <td>A</td>\n",
       "      <td>NaN</td>\n",
       "      <td>NaN</td>\n",
       "    </tr>\n",
       "    <tr>\n",
       "      <th>1</th>\n",
       "      <td>2</td>\n",
       "      <td>1</td>\n",
       "      <td>1</td>\n",
       "      <td>Cumings, Mrs. John Bradley (Florence Briggs Th...</td>\n",
       "      <td>female</td>\n",
       "      <td>38.0</td>\n",
       "      <td>1</td>\n",
       "      <td>0</td>\n",
       "      <td>PC 17599</td>\n",
       "      <td>71.2833</td>\n",
       "      <td>C85</td>\n",
       "      <td>C</td>\n",
       "      <td>Mrs</td>\n",
       "      <td>51</td>\n",
       "      <td>1</td>\n",
       "      <td>8</td>\n",
       "      <td>P</td>\n",
       "      <td>C</td>\n",
       "      <td>85.0</td>\n",
       "    </tr>\n",
       "    <tr>\n",
       "      <th>2</th>\n",
       "      <td>3</td>\n",
       "      <td>1</td>\n",
       "      <td>3</td>\n",
       "      <td>Heikkinen, Miss. Laina</td>\n",
       "      <td>female</td>\n",
       "      <td>26.0</td>\n",
       "      <td>0</td>\n",
       "      <td>0</td>\n",
       "      <td>STON/O2. 3101282</td>\n",
       "      <td>7.9250</td>\n",
       "      <td>NaN</td>\n",
       "      <td>S</td>\n",
       "      <td>Miss</td>\n",
       "      <td>22</td>\n",
       "      <td>0</td>\n",
       "      <td>16</td>\n",
       "      <td>S</td>\n",
       "      <td>NaN</td>\n",
       "      <td>NaN</td>\n",
       "    </tr>\n",
       "    <tr>\n",
       "      <th>3</th>\n",
       "      <td>4</td>\n",
       "      <td>1</td>\n",
       "      <td>1</td>\n",
       "      <td>Futrelle, Mrs. Jacques Heath (Lily May Peel)</td>\n",
       "      <td>female</td>\n",
       "      <td>35.0</td>\n",
       "      <td>1</td>\n",
       "      <td>0</td>\n",
       "      <td>113803</td>\n",
       "      <td>53.1000</td>\n",
       "      <td>C123</td>\n",
       "      <td>S</td>\n",
       "      <td>Mrs</td>\n",
       "      <td>44</td>\n",
       "      <td>1</td>\n",
       "      <td>6</td>\n",
       "      <td>1</td>\n",
       "      <td>C</td>\n",
       "      <td>123.0</td>\n",
       "    </tr>\n",
       "    <tr>\n",
       "      <th>4</th>\n",
       "      <td>5</td>\n",
       "      <td>0</td>\n",
       "      <td>3</td>\n",
       "      <td>Allen, Mr. William Henry</td>\n",
       "      <td>male</td>\n",
       "      <td>35.0</td>\n",
       "      <td>0</td>\n",
       "      <td>0</td>\n",
       "      <td>373450</td>\n",
       "      <td>8.0500</td>\n",
       "      <td>NaN</td>\n",
       "      <td>S</td>\n",
       "      <td>Mr</td>\n",
       "      <td>24</td>\n",
       "      <td>0</td>\n",
       "      <td>6</td>\n",
       "      <td>3</td>\n",
       "      <td>NaN</td>\n",
       "      <td>NaN</td>\n",
       "    </tr>\n",
       "  </tbody>\n",
       "</table>\n",
       "</div>"
      ],
      "text/plain": [
       "   PassengerId  Survived  Pclass  \\\n",
       "0            1         0       3   \n",
       "1            2         1       1   \n",
       "2            3         1       3   \n",
       "3            4         1       1   \n",
       "4            5         0       3   \n",
       "\n",
       "                                                Name     Sex   Age  SibSp  \\\n",
       "0                            Braund, Mr. Owen Harris    male  22.0      1   \n",
       "1  Cumings, Mrs. John Bradley (Florence Briggs Th...  female  38.0      1   \n",
       "2                             Heikkinen, Miss. Laina  female  26.0      0   \n",
       "3       Futrelle, Mrs. Jacques Heath (Lily May Peel)  female  35.0      1   \n",
       "4                           Allen, Mr. William Henry    male  35.0      0   \n",
       "\n",
       "   Parch            Ticket     Fare Cabin Embarked NameTitle  NameLength  \\\n",
       "0      0         A/5 21171   7.2500   NaN        S        Mr          23   \n",
       "1      0          PC 17599  71.2833   C85        C       Mrs          51   \n",
       "2      0  STON/O2. 3101282   7.9250   NaN        S      Miss          22   \n",
       "3      0            113803  53.1000  C123        S       Mrs          44   \n",
       "4      0            373450   8.0500   NaN        S        Mr          24   \n",
       "\n",
       "   FamSize  TicketLength TicketLetter Cabin_Letter  CabinNum  \n",
       "0        1             9            A          NaN       NaN  \n",
       "1        1             8            P            C      85.0  \n",
       "2        0            16            S          NaN       NaN  \n",
       "3        1             6            1            C     123.0  \n",
       "4        0             6            3          NaN       NaN  "
      ]
     },
     "execution_count": 42,
     "metadata": {},
     "output_type": "execute_result"
    }
   ],
   "source": [
    "train.head()"
   ]
  },
  {
   "cell_type": "code",
   "execution_count": 43,
   "metadata": {
    "collapsed": true
   },
   "outputs": [],
   "source": [
    "\"\"\"\n",
    "def name(train,test):\n",
    "    train['NameTitle'] = train['Name'].apply(lambda x: x.split(',')[1].split('.')[0])\n",
    "    rare_title_index =  train['NameTitle'].value_counts()[train['NameTitle'].value_counts()<=5].index\n",
    "    print rare_title_index\n",
    "    for dataset in [train,test]:\n",
    "        dataset['NameTitle'] = dataset['Name'].apply(lambda x: x.split(',')[1].split('.')[0])\n",
    "        dataset['NameLength'] = dataset['Name'].apply(lambda x: len(x))\n",
    "        dataset['NameTitle'][dataset['NameTitle'].isin( rare_title_index )] = 'RareTitle'\n",
    "        del dataset['Name']\n",
    "    return train,test\n",
    "\"\"\"\n",
    "def name(train, test):\n",
    "    for i in [train, test]:\n",
    "        i['NameTitle'] = i['Name'].apply(lambda x: len(x))\n",
    "        i['NameTitle'] = i['Name'].apply(lambda x: x.split(',')[1]).apply(lambda x: x.split()[0])\n",
    "        del i['Name']\n",
    "    return train, test"
   ]
  },
  {
   "cell_type": "code",
   "execution_count": 44,
   "metadata": {
    "collapsed": false
   },
   "outputs": [],
   "source": [
    "\"\"\"\n",
    "def age(train,test):\n",
    "    for ds in [train,test]:\n",
    "        ds['AgeNullFlag'] = 0\n",
    "        ds['AgeNullFlag'][ds['Age'].isnull()] = 1\n",
    "        agemean = ds['Age'].mean()\n",
    "        ds['Age'].fillna(ds['Age'].mean(),inplace=True)\n",
    "    return train,test\n",
    "\"\"\"\n",
    "def age(train, test):\n",
    "    for i in [train, test]:\n",
    "        i['AgeNullFlag'] = i['Age'].apply(lambda x: 1 if pd.isnull(x) else 0)\n",
    "        data = train.groupby(['NameTitle', 'Pclass'])['Age']\n",
    "        i['Age'] = data.transform(lambda x: x.fillna(x.mean()))\n",
    "    return train, test"
   ]
  },
  {
   "cell_type": "code",
   "execution_count": 45,
   "metadata": {
    "collapsed": true
   },
   "outputs": [],
   "source": [
    "def fam_size(train,test):\n",
    "    for ds in [train,test]:\n",
    "        ds['FamSize'] = ds['SibSp'] + ds['Parch']\n",
    "        del ds['SibSp']\n",
    "        del ds['Parch']\n",
    "    return train, test"
   ]
  },
  {
   "cell_type": "code",
   "execution_count": 46,
   "metadata": {
    "collapsed": false
   },
   "outputs": [],
   "source": [
    "\"\"\"\n",
    "def ticket(train,test):\n",
    "    train['TicketLetter'] = train['Ticket'].apply(lambda x:x[0])\n",
    "    ticket_letter_rare = train['TicketLetter'].value_counts()[train['TicketLetter'].value_counts() <20 ].index\n",
    "    ticket_letter_survived_rate = train['Survived'].groupby(train['TicketLetter']).mean()\n",
    "    ticket_letter_rare_high =[ letter for letter in ticket_letter_rare  if ticket_letter_survived_rate[letter]>=0.5 ]\n",
    "    ticket_letter_rare_low = [ letter for letter in ticket_letter_rare  if ticket_letter_survived_rate[letter]<0.5 ]\n",
    "    for ds in [train,test]:\n",
    "        ds['TicketLetter'] = ds['Ticket'].apply(lambda x:str(x)[0])\n",
    "        #print type(ticket_letter_survived_rate) \n",
    "        ds['TicketLetter'][ds['TicketLetter'].isin( ticket_letter_rare_high)] = 'RareHigh'\n",
    "        ds['TicketLetter'][ds['TicketLetter'].isin( ticket_letter_rare_low)] = 'RareLow'\n",
    "        ds['TicketLength'] = ds['Ticket'].apply(lambda x:len(x))\n",
    "        del ds['Ticket']\n",
    "    return train, test\n",
    "\"\"\"\n",
    "def ticket(train, test):\n",
    "    for i in [train, test]:\n",
    "        i['TicketLetter'] = i['Ticket'].apply(lambda x: str(x)[0])\n",
    "        i['TicketLetter'] = i['TicketLetter'].apply(lambda x: str(x))\n",
    "        i['TicketLetter'] = np.where((i['TicketLetter']).isin(['1', '2', '3', 'S', 'P', 'C', 'A']), i['TicketLetter'],\n",
    "                                   np.where((i['TicketLetter']).isin(['W', '4', '7', '6', 'L', '5', '8']),\n",
    "                                            'Low_ticket', 'Other_ticket'))\n",
    "        i['TicketLength'] = i['Ticket'].apply(lambda x: len(x))\n",
    "        del i['Ticket']\n",
    "    return train, test"
   ]
  },
  {
   "cell_type": "code",
   "execution_count": 47,
   "metadata": {
    "collapsed": false
   },
   "outputs": [],
   "source": [
    "\"\"\"\n",
    "#print train['Cabin'].head()\n",
    "def cabin(train,test):\n",
    "    for ds in [train,test]:\n",
    "        ds['CabinNullFlag'] = ds['Cabin'].apply(lambda x: 1 if pd.isnull(x) else 0 )\n",
    "        ds['Cabin_Letter'] = ds['Cabin'].apply(lambda x: str(x)[0])\n",
    "        ds['Cabin_Letter'] = ds['Cabin_Letter'].apply(lambda x: 'NaN' if x=='n' else x)\n",
    "        ds['CabinNum']=ds['Cabin'].apply(lambda x: str(x).split(' ')[0][1:])\n",
    "        ds['CabinNum'].replace('an',np.NaN,inplace=True)\n",
    "        ds['CabinNum']=ds['CabinNum'].apply(lambda x:int(x) if pd.notnull(x) and x != '' else np.NaN ) #进行数字化\n",
    "        del ds['Cabin']\n",
    "    train['CabinNum'],bins = pd.qcut(train['CabinNum'],3,retbins=True)\n",
    "    print 'bins=',bins\n",
    "    test['CabinNum'] = pd.cut(test['CabinNum'],bins=bins)\n",
    "    train = pd.concat((train,pd.get_dummies(train['CabinNum'],prefix='CabinNum')),axis = 1)\n",
    "    test = pd.concat((test,pd.get_dummies(test['CabinNum'],prefix='CabinNum')),axis=1)\n",
    "    del train['CabinNum']\n",
    "    del test['CabinNum']\n",
    "    return train,test\n",
    "\"\"\"\n",
    "def cabin(train, test):\n",
    "    \n",
    "    for i in [train, test]:\n",
    "        i['Cabin_num1'] = i['Cabin'].apply(lambda x: str(x).split(' ')[-1][1:])\n",
    "        i['Cabin_num1'].replace('an', np.NaN, inplace = True)\n",
    "        i['Cabin_num1'] = i['Cabin_num1'].apply(lambda x: int(x) if not pd.isnull(x) and x != '' else np.NaN)\n",
    "        i['CabinNum'] = pd.qcut(train['Cabin_num1'],3)\n",
    "    train = pd.concat((train, pd.get_dummies(train['CabinNum'], prefix = 'CabinNum')), axis = 1)\n",
    "    test = pd.concat((test, pd.get_dummies(test['CabinNum'], prefix = 'CabinNum')), axis = 1)\n",
    "    del train['CabinNum']\n",
    "    del test['CabinNum']\n",
    "    del train['Cabin_num1']\n",
    "    del test['Cabin_num1']\n",
    "    \n",
    "    for i in [train, test]:\n",
    "        i['Cabin_Letter'] = i['Cabin'].apply(lambda x: str(x)[0])\n",
    "        del i['Cabin']\n",
    "    \n",
    "    return train, test\n"
   ]
  },
  {
   "cell_type": "code",
   "execution_count": 48,
   "metadata": {
    "collapsed": false
   },
   "outputs": [],
   "source": [
    "def embarked(train, test):\n",
    "    for i in [train, test]:\n",
    "        i['Embarked'] = i['Embarked'].fillna('NULL')\n",
    "    return train, test"
   ]
  },
  {
   "cell_type": "code",
   "execution_count": null,
   "metadata": {
    "collapsed": true
   },
   "outputs": [],
   "source": []
  },
  {
   "cell_type": "code",
   "execution_count": 49,
   "metadata": {
    "collapsed": true
   },
   "outputs": [],
   "source": [
    "def dummies(train,test,columns=['Pclass','Sex','NameTitle','Embarked','Cabin_Letter','TicketLetter','FamSize']):\n",
    "    for column in columns:\n",
    "        train[column] = train[column].apply(lambda x:str(x))\n",
    "        test[column] = test[column].apply(lambda x:str(x))   \n",
    "        good_cols = [column+'_'+i for i in train[column].unique() if i in test[column].unique()]\n",
    "        train = pd.concat((train, pd.get_dummies(train[column], prefix=column)[good_cols]), axis=1)\n",
    "        test = pd.concat((test, pd.get_dummies(test[column], prefix=column)[good_cols]), axis=1)\n",
    "        del train[column]\n",
    "        del test[column]\n",
    "    return train, test"
   ]
  },
  {
   "cell_type": "code",
   "execution_count": 50,
   "metadata": {
    "collapsed": true
   },
   "outputs": [],
   "source": [
    "def drop(train,test, cols=['PassengerId']):\n",
    "    for col in cols:\n",
    "        for dataset in [train,test]:\n",
    "            del dataset[col]\n",
    "    return train, test"
   ]
  },
  {
   "cell_type": "code",
   "execution_count": 51,
   "metadata": {
    "collapsed": false
   },
   "outputs": [],
   "source": [
    "#运行一遍 跪求无bug\n",
    "train = pd.read_csv('train.csv')\n",
    "test = pd.read_csv('test.csv')\n",
    "train, test = name(train, test)\n",
    "train, test = age(train, test)\n",
    "train, test = fam_size(train, test)\n",
    "train, test = ticket(train, test)\n",
    "train, test = cabin(train, test)\n",
    "train, test = embarked(train, test)\n",
    "test['Fare'].fillna(train['Fare'].mean(), inplace = True)\n",
    "train, test = dummies(train, test)\n",
    "train, test = drop(train, test)\n",
    "\n",
    "\n"
   ]
  },
  {
   "cell_type": "code",
   "execution_count": 52,
   "metadata": {
    "collapsed": false
   },
   "outputs": [
    {
     "data": {
      "text/html": [
       "<div>\n",
       "<table border=\"1\" class=\"dataframe\">\n",
       "  <thead>\n",
       "    <tr style=\"text-align: right;\">\n",
       "      <th></th>\n",
       "      <th>Survived</th>\n",
       "      <th>Age</th>\n",
       "      <th>Fare</th>\n",
       "      <th>AgeNullFlag</th>\n",
       "      <th>TicketLength</th>\n",
       "      <th>CabinNum_[2, 28.667]</th>\n",
       "      <th>CabinNum_(28.667, 65.667]</th>\n",
       "      <th>CabinNum_(65.667, 148]</th>\n",
       "      <th>Pclass_3</th>\n",
       "      <th>Pclass_1</th>\n",
       "      <th>...</th>\n",
       "      <th>TicketLetter_Other_ticket</th>\n",
       "      <th>FamSize_1</th>\n",
       "      <th>FamSize_0</th>\n",
       "      <th>FamSize_4</th>\n",
       "      <th>FamSize_2</th>\n",
       "      <th>FamSize_6</th>\n",
       "      <th>FamSize_5</th>\n",
       "      <th>FamSize_3</th>\n",
       "      <th>FamSize_7</th>\n",
       "      <th>FamSize_10</th>\n",
       "    </tr>\n",
       "  </thead>\n",
       "  <tbody>\n",
       "    <tr>\n",
       "      <th>0</th>\n",
       "      <td>0</td>\n",
       "      <td>22.0</td>\n",
       "      <td>7.2500</td>\n",
       "      <td>0</td>\n",
       "      <td>9</td>\n",
       "      <td>0.0</td>\n",
       "      <td>0.0</td>\n",
       "      <td>0.0</td>\n",
       "      <td>1.0</td>\n",
       "      <td>0.0</td>\n",
       "      <td>...</td>\n",
       "      <td>0.0</td>\n",
       "      <td>1.0</td>\n",
       "      <td>0.0</td>\n",
       "      <td>0.0</td>\n",
       "      <td>0.0</td>\n",
       "      <td>0.0</td>\n",
       "      <td>0.0</td>\n",
       "      <td>0.0</td>\n",
       "      <td>0.0</td>\n",
       "      <td>0.0</td>\n",
       "    </tr>\n",
       "    <tr>\n",
       "      <th>1</th>\n",
       "      <td>1</td>\n",
       "      <td>38.0</td>\n",
       "      <td>71.2833</td>\n",
       "      <td>0</td>\n",
       "      <td>8</td>\n",
       "      <td>0.0</td>\n",
       "      <td>0.0</td>\n",
       "      <td>1.0</td>\n",
       "      <td>0.0</td>\n",
       "      <td>1.0</td>\n",
       "      <td>...</td>\n",
       "      <td>0.0</td>\n",
       "      <td>1.0</td>\n",
       "      <td>0.0</td>\n",
       "      <td>0.0</td>\n",
       "      <td>0.0</td>\n",
       "      <td>0.0</td>\n",
       "      <td>0.0</td>\n",
       "      <td>0.0</td>\n",
       "      <td>0.0</td>\n",
       "      <td>0.0</td>\n",
       "    </tr>\n",
       "    <tr>\n",
       "      <th>2</th>\n",
       "      <td>1</td>\n",
       "      <td>26.0</td>\n",
       "      <td>7.9250</td>\n",
       "      <td>0</td>\n",
       "      <td>16</td>\n",
       "      <td>0.0</td>\n",
       "      <td>0.0</td>\n",
       "      <td>0.0</td>\n",
       "      <td>1.0</td>\n",
       "      <td>0.0</td>\n",
       "      <td>...</td>\n",
       "      <td>0.0</td>\n",
       "      <td>0.0</td>\n",
       "      <td>1.0</td>\n",
       "      <td>0.0</td>\n",
       "      <td>0.0</td>\n",
       "      <td>0.0</td>\n",
       "      <td>0.0</td>\n",
       "      <td>0.0</td>\n",
       "      <td>0.0</td>\n",
       "      <td>0.0</td>\n",
       "    </tr>\n",
       "    <tr>\n",
       "      <th>3</th>\n",
       "      <td>1</td>\n",
       "      <td>35.0</td>\n",
       "      <td>53.1000</td>\n",
       "      <td>0</td>\n",
       "      <td>6</td>\n",
       "      <td>0.0</td>\n",
       "      <td>0.0</td>\n",
       "      <td>1.0</td>\n",
       "      <td>0.0</td>\n",
       "      <td>1.0</td>\n",
       "      <td>...</td>\n",
       "      <td>0.0</td>\n",
       "      <td>1.0</td>\n",
       "      <td>0.0</td>\n",
       "      <td>0.0</td>\n",
       "      <td>0.0</td>\n",
       "      <td>0.0</td>\n",
       "      <td>0.0</td>\n",
       "      <td>0.0</td>\n",
       "      <td>0.0</td>\n",
       "      <td>0.0</td>\n",
       "    </tr>\n",
       "    <tr>\n",
       "      <th>4</th>\n",
       "      <td>0</td>\n",
       "      <td>35.0</td>\n",
       "      <td>8.0500</td>\n",
       "      <td>0</td>\n",
       "      <td>6</td>\n",
       "      <td>0.0</td>\n",
       "      <td>0.0</td>\n",
       "      <td>0.0</td>\n",
       "      <td>1.0</td>\n",
       "      <td>0.0</td>\n",
       "      <td>...</td>\n",
       "      <td>0.0</td>\n",
       "      <td>0.0</td>\n",
       "      <td>1.0</td>\n",
       "      <td>0.0</td>\n",
       "      <td>0.0</td>\n",
       "      <td>0.0</td>\n",
       "      <td>0.0</td>\n",
       "      <td>0.0</td>\n",
       "      <td>0.0</td>\n",
       "      <td>0.0</td>\n",
       "    </tr>\n",
       "  </tbody>\n",
       "</table>\n",
       "<p>5 rows × 50 columns</p>\n",
       "</div>"
      ],
      "text/plain": [
       "   Survived   Age     Fare  AgeNullFlag  TicketLength  CabinNum_[2, 28.667]  \\\n",
       "0         0  22.0   7.2500            0             9                   0.0   \n",
       "1         1  38.0  71.2833            0             8                   0.0   \n",
       "2         1  26.0   7.9250            0            16                   0.0   \n",
       "3         1  35.0  53.1000            0             6                   0.0   \n",
       "4         0  35.0   8.0500            0             6                   0.0   \n",
       "\n",
       "   CabinNum_(28.667, 65.667]  CabinNum_(65.667, 148]  Pclass_3  Pclass_1  \\\n",
       "0                        0.0                     0.0       1.0       0.0   \n",
       "1                        0.0                     1.0       0.0       1.0   \n",
       "2                        0.0                     0.0       1.0       0.0   \n",
       "3                        0.0                     1.0       0.0       1.0   \n",
       "4                        0.0                     0.0       1.0       0.0   \n",
       "\n",
       "      ...      TicketLetter_Other_ticket  FamSize_1  FamSize_0  FamSize_4  \\\n",
       "0     ...                            0.0        1.0        0.0        0.0   \n",
       "1     ...                            0.0        1.0        0.0        0.0   \n",
       "2     ...                            0.0        0.0        1.0        0.0   \n",
       "3     ...                            0.0        1.0        0.0        0.0   \n",
       "4     ...                            0.0        0.0        1.0        0.0   \n",
       "\n",
       "   FamSize_2  FamSize_6  FamSize_5  FamSize_3  FamSize_7  FamSize_10  \n",
       "0        0.0        0.0        0.0        0.0        0.0         0.0  \n",
       "1        0.0        0.0        0.0        0.0        0.0         0.0  \n",
       "2        0.0        0.0        0.0        0.0        0.0         0.0  \n",
       "3        0.0        0.0        0.0        0.0        0.0         0.0  \n",
       "4        0.0        0.0        0.0        0.0        0.0         0.0  \n",
       "\n",
       "[5 rows x 50 columns]"
      ]
     },
     "execution_count": 52,
     "metadata": {},
     "output_type": "execute_result"
    }
   ],
   "source": [
    "train.head()"
   ]
  },
  {
   "cell_type": "code",
   "execution_count": 53,
   "metadata": {
    "collapsed": false
   },
   "outputs": [
    {
     "data": {
      "text/html": [
       "<div>\n",
       "<table border=\"1\" class=\"dataframe\">\n",
       "  <thead>\n",
       "    <tr style=\"text-align: right;\">\n",
       "      <th></th>\n",
       "      <th>Age</th>\n",
       "      <th>Fare</th>\n",
       "      <th>AgeNullFlag</th>\n",
       "      <th>TicketLength</th>\n",
       "      <th>CabinNum_[2, 28.667]</th>\n",
       "      <th>CabinNum_(28.667, 65.667]</th>\n",
       "      <th>CabinNum_(65.667, 148]</th>\n",
       "      <th>Pclass_3</th>\n",
       "      <th>Pclass_1</th>\n",
       "      <th>Pclass_2</th>\n",
       "      <th>...</th>\n",
       "      <th>TicketLetter_Other_ticket</th>\n",
       "      <th>FamSize_1</th>\n",
       "      <th>FamSize_0</th>\n",
       "      <th>FamSize_4</th>\n",
       "      <th>FamSize_2</th>\n",
       "      <th>FamSize_6</th>\n",
       "      <th>FamSize_5</th>\n",
       "      <th>FamSize_3</th>\n",
       "      <th>FamSize_7</th>\n",
       "      <th>FamSize_10</th>\n",
       "    </tr>\n",
       "  </thead>\n",
       "  <tbody>\n",
       "    <tr>\n",
       "      <th>0</th>\n",
       "      <td>22.0</td>\n",
       "      <td>7.8292</td>\n",
       "      <td>0</td>\n",
       "      <td>6</td>\n",
       "      <td>0.0</td>\n",
       "      <td>0.0</td>\n",
       "      <td>0.0</td>\n",
       "      <td>1.0</td>\n",
       "      <td>0.0</td>\n",
       "      <td>0.0</td>\n",
       "      <td>...</td>\n",
       "      <td>0.0</td>\n",
       "      <td>0.0</td>\n",
       "      <td>1.0</td>\n",
       "      <td>0.0</td>\n",
       "      <td>0.0</td>\n",
       "      <td>0.0</td>\n",
       "      <td>0.0</td>\n",
       "      <td>0.0</td>\n",
       "      <td>0.0</td>\n",
       "      <td>0.0</td>\n",
       "    </tr>\n",
       "    <tr>\n",
       "      <th>1</th>\n",
       "      <td>38.0</td>\n",
       "      <td>7.0000</td>\n",
       "      <td>0</td>\n",
       "      <td>6</td>\n",
       "      <td>0.0</td>\n",
       "      <td>0.0</td>\n",
       "      <td>1.0</td>\n",
       "      <td>1.0</td>\n",
       "      <td>0.0</td>\n",
       "      <td>0.0</td>\n",
       "      <td>...</td>\n",
       "      <td>0.0</td>\n",
       "      <td>1.0</td>\n",
       "      <td>0.0</td>\n",
       "      <td>0.0</td>\n",
       "      <td>0.0</td>\n",
       "      <td>0.0</td>\n",
       "      <td>0.0</td>\n",
       "      <td>0.0</td>\n",
       "      <td>0.0</td>\n",
       "      <td>0.0</td>\n",
       "    </tr>\n",
       "    <tr>\n",
       "      <th>2</th>\n",
       "      <td>26.0</td>\n",
       "      <td>9.6875</td>\n",
       "      <td>0</td>\n",
       "      <td>6</td>\n",
       "      <td>0.0</td>\n",
       "      <td>0.0</td>\n",
       "      <td>0.0</td>\n",
       "      <td>0.0</td>\n",
       "      <td>0.0</td>\n",
       "      <td>1.0</td>\n",
       "      <td>...</td>\n",
       "      <td>0.0</td>\n",
       "      <td>0.0</td>\n",
       "      <td>1.0</td>\n",
       "      <td>0.0</td>\n",
       "      <td>0.0</td>\n",
       "      <td>0.0</td>\n",
       "      <td>0.0</td>\n",
       "      <td>0.0</td>\n",
       "      <td>0.0</td>\n",
       "      <td>0.0</td>\n",
       "    </tr>\n",
       "    <tr>\n",
       "      <th>3</th>\n",
       "      <td>35.0</td>\n",
       "      <td>8.6625</td>\n",
       "      <td>0</td>\n",
       "      <td>6</td>\n",
       "      <td>0.0</td>\n",
       "      <td>0.0</td>\n",
       "      <td>1.0</td>\n",
       "      <td>1.0</td>\n",
       "      <td>0.0</td>\n",
       "      <td>0.0</td>\n",
       "      <td>...</td>\n",
       "      <td>0.0</td>\n",
       "      <td>0.0</td>\n",
       "      <td>1.0</td>\n",
       "      <td>0.0</td>\n",
       "      <td>0.0</td>\n",
       "      <td>0.0</td>\n",
       "      <td>0.0</td>\n",
       "      <td>0.0</td>\n",
       "      <td>0.0</td>\n",
       "      <td>0.0</td>\n",
       "    </tr>\n",
       "    <tr>\n",
       "      <th>4</th>\n",
       "      <td>35.0</td>\n",
       "      <td>12.2875</td>\n",
       "      <td>0</td>\n",
       "      <td>7</td>\n",
       "      <td>0.0</td>\n",
       "      <td>0.0</td>\n",
       "      <td>0.0</td>\n",
       "      <td>1.0</td>\n",
       "      <td>0.0</td>\n",
       "      <td>0.0</td>\n",
       "      <td>...</td>\n",
       "      <td>0.0</td>\n",
       "      <td>0.0</td>\n",
       "      <td>0.0</td>\n",
       "      <td>0.0</td>\n",
       "      <td>1.0</td>\n",
       "      <td>0.0</td>\n",
       "      <td>0.0</td>\n",
       "      <td>0.0</td>\n",
       "      <td>0.0</td>\n",
       "      <td>0.0</td>\n",
       "    </tr>\n",
       "  </tbody>\n",
       "</table>\n",
       "<p>5 rows × 49 columns</p>\n",
       "</div>"
      ],
      "text/plain": [
       "    Age     Fare  AgeNullFlag  TicketLength  CabinNum_[2, 28.667]  \\\n",
       "0  22.0   7.8292            0             6                   0.0   \n",
       "1  38.0   7.0000            0             6                   0.0   \n",
       "2  26.0   9.6875            0             6                   0.0   \n",
       "3  35.0   8.6625            0             6                   0.0   \n",
       "4  35.0  12.2875            0             7                   0.0   \n",
       "\n",
       "   CabinNum_(28.667, 65.667]  CabinNum_(65.667, 148]  Pclass_3  Pclass_1  \\\n",
       "0                        0.0                     0.0       1.0       0.0   \n",
       "1                        0.0                     1.0       1.0       0.0   \n",
       "2                        0.0                     0.0       0.0       0.0   \n",
       "3                        0.0                     1.0       1.0       0.0   \n",
       "4                        0.0                     0.0       1.0       0.0   \n",
       "\n",
       "   Pclass_2     ...      TicketLetter_Other_ticket  FamSize_1  FamSize_0  \\\n",
       "0       0.0     ...                            0.0        0.0        1.0   \n",
       "1       0.0     ...                            0.0        1.0        0.0   \n",
       "2       1.0     ...                            0.0        0.0        1.0   \n",
       "3       0.0     ...                            0.0        0.0        1.0   \n",
       "4       0.0     ...                            0.0        0.0        0.0   \n",
       "\n",
       "   FamSize_4  FamSize_2  FamSize_6  FamSize_5  FamSize_3  FamSize_7  \\\n",
       "0        0.0        0.0        0.0        0.0        0.0        0.0   \n",
       "1        0.0        0.0        0.0        0.0        0.0        0.0   \n",
       "2        0.0        0.0        0.0        0.0        0.0        0.0   \n",
       "3        0.0        0.0        0.0        0.0        0.0        0.0   \n",
       "4        0.0        1.0        0.0        0.0        0.0        0.0   \n",
       "\n",
       "   FamSize_10  \n",
       "0         0.0  \n",
       "1         0.0  \n",
       "2         0.0  \n",
       "3         0.0  \n",
       "4         0.0  \n",
       "\n",
       "[5 rows x 49 columns]"
      ]
     },
     "execution_count": 53,
     "metadata": {},
     "output_type": "execute_result"
    }
   ],
   "source": [
    "test.head()"
   ]
  },
  {
   "cell_type": "code",
   "execution_count": 54,
   "metadata": {
    "collapsed": false
   },
   "outputs": [
    {
     "name": "stdout",
     "output_type": "stream",
     "text": [
      "Survived                       int64\n",
      "Age                          float64\n",
      "Fare                         float64\n",
      "AgeNullFlag                    int64\n",
      "TicketLength                   int64\n",
      "CabinNum_[2, 28.667]         float64\n",
      "CabinNum_(28.667, 65.667]    float64\n",
      "CabinNum_(65.667, 148]       float64\n",
      "Pclass_3                     float64\n",
      "Pclass_1                     float64\n",
      "Pclass_2                     float64\n",
      "Sex_male                     float64\n",
      "Sex_female                   float64\n",
      "NameTitle_Mr.                float64\n",
      "NameTitle_Mrs.               float64\n",
      "NameTitle_Miss.              float64\n",
      "NameTitle_Master.            float64\n",
      "NameTitle_Rev.               float64\n",
      "NameTitle_Dr.                float64\n",
      "NameTitle_Ms.                float64\n",
      "NameTitle_Col.               float64\n",
      "Embarked_S                   float64\n",
      "Embarked_C                   float64\n",
      "Embarked_Q                   float64\n",
      "Cabin_Letter_n               float64\n",
      "Cabin_Letter_C               float64\n",
      "Cabin_Letter_E               float64\n",
      "Cabin_Letter_G               float64\n",
      "Cabin_Letter_D               float64\n",
      "Cabin_Letter_A               float64\n",
      "Cabin_Letter_B               float64\n",
      "Cabin_Letter_F               float64\n",
      "TicketLetter_A               float64\n",
      "TicketLetter_P               float64\n",
      "TicketLetter_S               float64\n",
      "TicketLetter_1               float64\n",
      "TicketLetter_3               float64\n",
      "TicketLetter_2               float64\n",
      "TicketLetter_C               float64\n",
      "TicketLetter_Low_ticket      float64\n",
      "TicketLetter_Other_ticket    float64\n",
      "FamSize_1                    float64\n",
      "FamSize_0                    float64\n",
      "FamSize_4                    float64\n",
      "FamSize_2                    float64\n",
      "FamSize_6                    float64\n",
      "FamSize_5                    float64\n",
      "FamSize_3                    float64\n",
      "FamSize_7                    float64\n",
      "FamSize_10                   float64\n",
      "dtype: object \n",
      "\n",
      "Age                          float64\n",
      "Fare                         float64\n",
      "AgeNullFlag                    int64\n",
      "TicketLength                   int64\n",
      "CabinNum_[2, 28.667]         float64\n",
      "CabinNum_(28.667, 65.667]    float64\n",
      "CabinNum_(65.667, 148]       float64\n",
      "Pclass_3                     float64\n",
      "Pclass_1                     float64\n",
      "Pclass_2                     float64\n",
      "Sex_male                     float64\n",
      "Sex_female                   float64\n",
      "NameTitle_Mr.                float64\n",
      "NameTitle_Mrs.               float64\n",
      "NameTitle_Miss.              float64\n",
      "NameTitle_Master.            float64\n",
      "NameTitle_Rev.               float64\n",
      "NameTitle_Dr.                float64\n",
      "NameTitle_Ms.                float64\n",
      "NameTitle_Col.               float64\n",
      "Embarked_S                   float64\n",
      "Embarked_C                   float64\n",
      "Embarked_Q                   float64\n",
      "Cabin_Letter_n               float64\n",
      "Cabin_Letter_C               float64\n",
      "Cabin_Letter_E               float64\n",
      "Cabin_Letter_G               float64\n",
      "Cabin_Letter_D               float64\n",
      "Cabin_Letter_A               float64\n",
      "Cabin_Letter_B               float64\n",
      "Cabin_Letter_F               float64\n",
      "TicketLetter_A               float64\n",
      "TicketLetter_P               float64\n",
      "TicketLetter_S               float64\n",
      "TicketLetter_1               float64\n",
      "TicketLetter_3               float64\n",
      "TicketLetter_2               float64\n",
      "TicketLetter_C               float64\n",
      "TicketLetter_Low_ticket      float64\n",
      "TicketLetter_Other_ticket    float64\n",
      "FamSize_1                    float64\n",
      "FamSize_0                    float64\n",
      "FamSize_4                    float64\n",
      "FamSize_2                    float64\n",
      "FamSize_6                    float64\n",
      "FamSize_5                    float64\n",
      "FamSize_3                    float64\n",
      "FamSize_7                    float64\n",
      "FamSize_10                   float64\n",
      "dtype: object\n"
     ]
    }
   ],
   "source": [
    "print train.dtypes,'\\n'\n",
    "print test.dtypes"
   ]
  },
  {
   "cell_type": "code",
   "execution_count": null,
   "metadata": {
    "collapsed": false
   },
   "outputs": [],
   "source": []
  },
  {
   "cell_type": "markdown",
   "metadata": {},
   "source": [
    "# hyperparameter turning\n",
    "use grid search to choose the best hyperparameter"
   ]
  },
  {
   "cell_type": "code",
   "execution_count": 55,
   "metadata": {
    "collapsed": false
   },
   "outputs": [
    {
     "data": {
      "text/plain": [
       "\"\\n\\n0.832772166105\\n{'min_samples_split': 4, 'n_estimators': 1000, 'criterion': 'gini', 'min_samples_leaf': 1}\\n\""
      ]
     },
     "execution_count": 55,
     "metadata": {},
     "output_type": "execute_result"
    }
   ],
   "source": [
    "\"\"\"\n",
    "from sklearn.model_selection import GridSearchCV\n",
    "from sklearn.ensemble import RandomForestClassifier\n",
    "rf = RandomForestClassifier(max_features='auto',\n",
    "                            oob_score=True, \n",
    "                            random_state=1,\n",
    "                            n_jobs=-1)\n",
    "param_grid = { \"criterion\"   : [\"gini\", \"entropy\"],\n",
    "             \"min_samples_leaf\" : [1,2,5],\n",
    "             \"min_samples_split\" : [8,10, 12, 16],\n",
    "             \"n_estimators\": [ 100, 400, 700,900]}\n",
    "\n",
    "gs = GridSearchCV(estimator=rf,\n",
    "                  param_grid=param_grid,\n",
    "                  scoring='accuracy',\n",
    "                  cv=3,\n",
    "                  n_jobs=-1)\n",
    "\n",
    "gs = gs.fit(train.iloc[:, 1:], train.iloc[:, 0])\n",
    "\n",
    "print(gs.best_score_)   \n",
    "print(gs.best_params_)  \n",
    "print(gs.cv_results_)\n",
    "\"\"\"\n",
    "#result\n",
    "\"\"\"\n",
    "0.836139169473\n",
    "{'min_samples_split': 8, 'n_estimators': 100, 'criterion': 'entropy', 'min_samples_leaf': 2}\n",
    "\"\"\"\n",
    "\n",
    "\"\"\"\n",
    "from sklearn.model_selection import GridSearchCV  \n",
    "from sklearn.ensemble import RandomForestClassifier\n",
    "\n",
    "rf = RandomForestClassifier(max_features='auto',\n",
    "                                oob_score=True,\n",
    "                                random_state=1,\n",
    "                                n_jobs=-1)\n",
    "\n",
    "param_grid = { \"criterion\"   : [\"gini\", \"entropy\"],\n",
    "             \"min_samples_leaf\" : [1, 5, 10],\n",
    "             \"min_samples_split\" : [2, 4, 10, 12, 16],\n",
    "             \"n_estimators\": [50, 100, 400, 700, 1000]}\n",
    "\n",
    "gs = GridSearchCV(estimator=rf,\n",
    "                  param_grid=param_grid,\n",
    "                  scoring='accuracy',\n",
    "                  cv=3,\n",
    "                  n_jobs=-1)\n",
    "\n",
    "gs = gs.fit(train.iloc[:, 1:], train.iloc[:, 0])\n",
    "\n",
    "print(gs.best_score_)   \n",
    "print(gs.best_params_)  \n",
    "print(gs.cv_results_)\n",
    "\"\"\"\n",
    "#result\n",
    "\"\"\"\n",
    "\n",
    "0.832772166105\n",
    "{'min_samples_split': 4, 'n_estimators': 1000, 'criterion': 'gini', 'min_samples_leaf': 1}\n",
    "\"\"\""
   ]
  },
  {
   "cell_type": "code",
   "execution_count": null,
   "metadata": {
    "collapsed": false
   },
   "outputs": [],
   "source": []
  },
  {
   "cell_type": "code",
   "execution_count": 56,
   "metadata": {
    "collapsed": false
   },
   "outputs": [],
   "source": [
    "#gs.best_params_"
   ]
  },
  {
   "cell_type": "code",
   "execution_count": 57,
   "metadata": {
    "collapsed": false
   },
   "outputs": [
    {
     "name": "stdout",
     "output_type": "stream",
     "text": [
      "0.8328\n"
     ]
    }
   ],
   "source": [
    "from sklearn.ensemble import RandomForestClassifier\n",
    "\n",
    "rf = RandomForestClassifier(criterion='gini', \n",
    "                             n_estimators=700,\n",
    "                             min_samples_split=20,\n",
    "                             min_samples_leaf=1,\n",
    "                             max_features='auto',\n",
    "                             oob_score=True,\n",
    "                             random_state=1,\n",
    "                             n_jobs=-1)\n",
    "rf.fit(train.iloc[:, 1:], train.iloc[:, 0])\n",
    "print(\"%.4f\" % rf.oob_score_)"
   ]
  },
  {
   "cell_type": "markdown",
   "metadata": {},
   "source": [
    "## 查看feature importance"
   ]
  },
  {
   "cell_type": "code",
   "execution_count": 58,
   "metadata": {
    "collapsed": false
   },
   "outputs": [
    {
     "data": {
      "text/html": [
       "<div>\n",
       "<table border=\"1\" class=\"dataframe\">\n",
       "  <thead>\n",
       "    <tr style=\"text-align: right;\">\n",
       "      <th></th>\n",
       "      <th>variable</th>\n",
       "      <th>importance</th>\n",
       "    </tr>\n",
       "  </thead>\n",
       "  <tbody>\n",
       "    <tr>\n",
       "      <th>0</th>\n",
       "      <td>Age</td>\n",
       "      <td>0.135695</td>\n",
       "    </tr>\n",
       "    <tr>\n",
       "      <th>1</th>\n",
       "      <td>Fare</td>\n",
       "      <td>0.131827</td>\n",
       "    </tr>\n",
       "    <tr>\n",
       "      <th>12</th>\n",
       "      <td>NameTitle_Mr.</td>\n",
       "      <td>0.104285</td>\n",
       "    </tr>\n",
       "    <tr>\n",
       "      <th>11</th>\n",
       "      <td>Sex_female</td>\n",
       "      <td>0.092311</td>\n",
       "    </tr>\n",
       "    <tr>\n",
       "      <th>10</th>\n",
       "      <td>Sex_male</td>\n",
       "      <td>0.092112</td>\n",
       "    </tr>\n",
       "    <tr>\n",
       "      <th>3</th>\n",
       "      <td>TicketLength</td>\n",
       "      <td>0.040735</td>\n",
       "    </tr>\n",
       "    <tr>\n",
       "      <th>7</th>\n",
       "      <td>Pclass_3</td>\n",
       "      <td>0.040150</td>\n",
       "    </tr>\n",
       "    <tr>\n",
       "      <th>14</th>\n",
       "      <td>NameTitle_Miss.</td>\n",
       "      <td>0.027019</td>\n",
       "    </tr>\n",
       "    <tr>\n",
       "      <th>23</th>\n",
       "      <td>Cabin_Letter_n</td>\n",
       "      <td>0.026247</td>\n",
       "    </tr>\n",
       "    <tr>\n",
       "      <th>13</th>\n",
       "      <td>NameTitle_Mrs.</td>\n",
       "      <td>0.026087</td>\n",
       "    </tr>\n",
       "    <tr>\n",
       "      <th>34</th>\n",
       "      <td>TicketLetter_1</td>\n",
       "      <td>0.018907</td>\n",
       "    </tr>\n",
       "    <tr>\n",
       "      <th>8</th>\n",
       "      <td>Pclass_1</td>\n",
       "      <td>0.017072</td>\n",
       "    </tr>\n",
       "    <tr>\n",
       "      <th>43</th>\n",
       "      <td>FamSize_2</td>\n",
       "      <td>0.015906</td>\n",
       "    </tr>\n",
       "    <tr>\n",
       "      <th>35</th>\n",
       "      <td>TicketLetter_3</td>\n",
       "      <td>0.015095</td>\n",
       "    </tr>\n",
       "    <tr>\n",
       "      <th>41</th>\n",
       "      <td>FamSize_0</td>\n",
       "      <td>0.014919</td>\n",
       "    </tr>\n",
       "    <tr>\n",
       "      <th>2</th>\n",
       "      <td>AgeNullFlag</td>\n",
       "      <td>0.014512</td>\n",
       "    </tr>\n",
       "    <tr>\n",
       "      <th>20</th>\n",
       "      <td>Embarked_S</td>\n",
       "      <td>0.013782</td>\n",
       "    </tr>\n",
       "    <tr>\n",
       "      <th>9</th>\n",
       "      <td>Pclass_2</td>\n",
       "      <td>0.013248</td>\n",
       "    </tr>\n",
       "    <tr>\n",
       "      <th>38</th>\n",
       "      <td>TicketLetter_Low_ticket</td>\n",
       "      <td>0.012295</td>\n",
       "    </tr>\n",
       "    <tr>\n",
       "      <th>40</th>\n",
       "      <td>FamSize_1</td>\n",
       "      <td>0.011888</td>\n",
       "    </tr>\n",
       "    <tr>\n",
       "      <th>4</th>\n",
       "      <td>CabinNum_[2, 28.667]</td>\n",
       "      <td>0.011528</td>\n",
       "    </tr>\n",
       "    <tr>\n",
       "      <th>15</th>\n",
       "      <td>NameTitle_Master.</td>\n",
       "      <td>0.010320</td>\n",
       "    </tr>\n",
       "    <tr>\n",
       "      <th>21</th>\n",
       "      <td>Embarked_C</td>\n",
       "      <td>0.009453</td>\n",
       "    </tr>\n",
       "    <tr>\n",
       "      <th>25</th>\n",
       "      <td>Cabin_Letter_E</td>\n",
       "      <td>0.008869</td>\n",
       "    </tr>\n",
       "    <tr>\n",
       "      <th>36</th>\n",
       "      <td>TicketLetter_2</td>\n",
       "      <td>0.008505</td>\n",
       "    </tr>\n",
       "    <tr>\n",
       "      <th>45</th>\n",
       "      <td>FamSize_5</td>\n",
       "      <td>0.007488</td>\n",
       "    </tr>\n",
       "    <tr>\n",
       "      <th>46</th>\n",
       "      <td>FamSize_3</td>\n",
       "      <td>0.006829</td>\n",
       "    </tr>\n",
       "    <tr>\n",
       "      <th>5</th>\n",
       "      <td>CabinNum_(28.667, 65.667]</td>\n",
       "      <td>0.006595</td>\n",
       "    </tr>\n",
       "    <tr>\n",
       "      <th>22</th>\n",
       "      <td>Embarked_Q</td>\n",
       "      <td>0.006277</td>\n",
       "    </tr>\n",
       "    <tr>\n",
       "      <th>42</th>\n",
       "      <td>FamSize_4</td>\n",
       "      <td>0.006052</td>\n",
       "    </tr>\n",
       "    <tr>\n",
       "      <th>33</th>\n",
       "      <td>TicketLetter_S</td>\n",
       "      <td>0.005537</td>\n",
       "    </tr>\n",
       "    <tr>\n",
       "      <th>6</th>\n",
       "      <td>CabinNum_(65.667, 148]</td>\n",
       "      <td>0.005173</td>\n",
       "    </tr>\n",
       "    <tr>\n",
       "      <th>27</th>\n",
       "      <td>Cabin_Letter_D</td>\n",
       "      <td>0.005099</td>\n",
       "    </tr>\n",
       "    <tr>\n",
       "      <th>24</th>\n",
       "      <td>Cabin_Letter_C</td>\n",
       "      <td>0.004917</td>\n",
       "    </tr>\n",
       "    <tr>\n",
       "      <th>32</th>\n",
       "      <td>TicketLetter_P</td>\n",
       "      <td>0.004351</td>\n",
       "    </tr>\n",
       "    <tr>\n",
       "      <th>29</th>\n",
       "      <td>Cabin_Letter_B</td>\n",
       "      <td>0.004255</td>\n",
       "    </tr>\n",
       "    <tr>\n",
       "      <th>37</th>\n",
       "      <td>TicketLetter_C</td>\n",
       "      <td>0.003931</td>\n",
       "    </tr>\n",
       "    <tr>\n",
       "      <th>31</th>\n",
       "      <td>TicketLetter_A</td>\n",
       "      <td>0.003063</td>\n",
       "    </tr>\n",
       "    <tr>\n",
       "      <th>44</th>\n",
       "      <td>FamSize_6</td>\n",
       "      <td>0.002736</td>\n",
       "    </tr>\n",
       "    <tr>\n",
       "      <th>28</th>\n",
       "      <td>Cabin_Letter_A</td>\n",
       "      <td>0.002693</td>\n",
       "    </tr>\n",
       "    <tr>\n",
       "      <th>16</th>\n",
       "      <td>NameTitle_Rev.</td>\n",
       "      <td>0.002655</td>\n",
       "    </tr>\n",
       "    <tr>\n",
       "      <th>47</th>\n",
       "      <td>FamSize_7</td>\n",
       "      <td>0.002157</td>\n",
       "    </tr>\n",
       "    <tr>\n",
       "      <th>48</th>\n",
       "      <td>FamSize_10</td>\n",
       "      <td>0.002137</td>\n",
       "    </tr>\n",
       "    <tr>\n",
       "      <th>17</th>\n",
       "      <td>NameTitle_Dr.</td>\n",
       "      <td>0.001854</td>\n",
       "    </tr>\n",
       "    <tr>\n",
       "      <th>26</th>\n",
       "      <td>Cabin_Letter_G</td>\n",
       "      <td>0.001115</td>\n",
       "    </tr>\n",
       "    <tr>\n",
       "      <th>30</th>\n",
       "      <td>Cabin_Letter_F</td>\n",
       "      <td>0.000971</td>\n",
       "    </tr>\n",
       "    <tr>\n",
       "      <th>19</th>\n",
       "      <td>NameTitle_Col.</td>\n",
       "      <td>0.000593</td>\n",
       "    </tr>\n",
       "    <tr>\n",
       "      <th>39</th>\n",
       "      <td>TicketLetter_Other_ticket</td>\n",
       "      <td>0.000546</td>\n",
       "    </tr>\n",
       "    <tr>\n",
       "      <th>18</th>\n",
       "      <td>NameTitle_Ms.</td>\n",
       "      <td>0.000211</td>\n",
       "    </tr>\n",
       "  </tbody>\n",
       "</table>\n",
       "</div>"
      ],
      "text/plain": [
       "                     variable  importance\n",
       "0                         Age    0.135695\n",
       "1                        Fare    0.131827\n",
       "12              NameTitle_Mr.    0.104285\n",
       "11                 Sex_female    0.092311\n",
       "10                   Sex_male    0.092112\n",
       "3                TicketLength    0.040735\n",
       "7                    Pclass_3    0.040150\n",
       "14            NameTitle_Miss.    0.027019\n",
       "23             Cabin_Letter_n    0.026247\n",
       "13             NameTitle_Mrs.    0.026087\n",
       "34             TicketLetter_1    0.018907\n",
       "8                    Pclass_1    0.017072\n",
       "43                  FamSize_2    0.015906\n",
       "35             TicketLetter_3    0.015095\n",
       "41                  FamSize_0    0.014919\n",
       "2                 AgeNullFlag    0.014512\n",
       "20                 Embarked_S    0.013782\n",
       "9                    Pclass_2    0.013248\n",
       "38    TicketLetter_Low_ticket    0.012295\n",
       "40                  FamSize_1    0.011888\n",
       "4        CabinNum_[2, 28.667]    0.011528\n",
       "15          NameTitle_Master.    0.010320\n",
       "21                 Embarked_C    0.009453\n",
       "25             Cabin_Letter_E    0.008869\n",
       "36             TicketLetter_2    0.008505\n",
       "45                  FamSize_5    0.007488\n",
       "46                  FamSize_3    0.006829\n",
       "5   CabinNum_(28.667, 65.667]    0.006595\n",
       "22                 Embarked_Q    0.006277\n",
       "42                  FamSize_4    0.006052\n",
       "33             TicketLetter_S    0.005537\n",
       "6      CabinNum_(65.667, 148]    0.005173\n",
       "27             Cabin_Letter_D    0.005099\n",
       "24             Cabin_Letter_C    0.004917\n",
       "32             TicketLetter_P    0.004351\n",
       "29             Cabin_Letter_B    0.004255\n",
       "37             TicketLetter_C    0.003931\n",
       "31             TicketLetter_A    0.003063\n",
       "44                  FamSize_6    0.002736\n",
       "28             Cabin_Letter_A    0.002693\n",
       "16             NameTitle_Rev.    0.002655\n",
       "47                  FamSize_7    0.002157\n",
       "48                 FamSize_10    0.002137\n",
       "17              NameTitle_Dr.    0.001854\n",
       "26             Cabin_Letter_G    0.001115\n",
       "30             Cabin_Letter_F    0.000971\n",
       "19             NameTitle_Col.    0.000593\n",
       "39  TicketLetter_Other_ticket    0.000546\n",
       "18              NameTitle_Ms.    0.000211"
      ]
     },
     "execution_count": 58,
     "metadata": {},
     "output_type": "execute_result"
    }
   ],
   "source": [
    "pd.concat((pd.DataFrame(train.iloc[:, 1:].columns, columns = ['variable']), \n",
    "           pd.DataFrame(rf.feature_importances_, columns = ['importance'])), \n",
    "          axis = 1).sort_values(by='importance', ascending = False)"
   ]
  },
  {
   "cell_type": "markdown",
   "metadata": {},
   "source": [
    "## 输出结果"
   ]
  },
  {
   "cell_type": "code",
   "execution_count": 59,
   "metadata": {
    "collapsed": false
   },
   "outputs": [],
   "source": [
    "predictions = rf.predict(test)\n",
    "predictions = pd.DataFrame(predictions, columns=['Survived'])\n",
    "test = pd.read_csv('test.csv')\n",
    "predictions = pd.concat((test.iloc[:, 0], predictions), axis = 1)\n",
    "predictions.to_csv('y_test5_n_estimators=700,min_samples_split=20.csv', sep=\",\", index = False)"
   ]
  },
  {
   "cell_type": "code",
   "execution_count": null,
   "metadata": {
    "collapsed": true
   },
   "outputs": [],
   "source": []
  }
 ],
 "metadata": {
  "anaconda-cloud": {},
  "kernelspec": {
   "display_name": "Python [Root]",
   "language": "python",
   "name": "Python [Root]"
  },
  "language_info": {
   "codemirror_mode": {
    "name": "ipython",
    "version": 2
   },
   "file_extension": ".py",
   "mimetype": "text/x-python",
   "name": "python",
   "nbconvert_exporter": "python",
   "pygments_lexer": "ipython2",
   "version": "2.7.12"
  }
 },
 "nbformat": 4,
 "nbformat_minor": 0
}
